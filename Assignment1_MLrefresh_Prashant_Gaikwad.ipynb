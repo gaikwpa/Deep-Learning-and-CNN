{
  "cells": [
    {
      "cell_type": "markdown",
      "metadata": {
        "id": "TOYn0ipdS4TE"
      },
      "source": [
        "# Individual Assignment M1: Town Economic Data\n",
        "**OPIM 5509: Introduction to Deep Learning - University of Connecticut**\n",
        "\n",
        "* Full Name: Prashant Gaikwad\n",
        "* Student ID (7 digit number): 2994408\n",
        "\n",
        "---------------------------------------------------------------------------\n",
        "\n",
        "Each student must complete and submit their own file, but you may work with your group for help. I do not want to see direct copy and pasted code otherwise you will get a zero.\n",
        "\n",
        "**10 points each. 100 points**\n",
        "\n",
        "  Use the file below to complete the following data wrangling and regression modeling. Good luck!\n"
      ]
    },
    {
      "cell_type": "code",
      "execution_count": null,
      "metadata": {
        "colab": {
          "base_uri": "https://localhost:8080/"
        },
        "id": "6LlHag90_Lth",
        "outputId": "81234c0c-b1c0-4eb3-edb2-0e8d869d49cf"
      },
      "outputs": [
        {
          "output_type": "stream",
          "name": "stdout",
          "text": [
            "Mounted at /content/drive\n"
          ]
        }
      ],
      "source": [
        "from google.colab import drive\n",
        "drive.mount('/content/drive')"
      ]
    },
    {
      "cell_type": "markdown",
      "metadata": {
        "id": "B4mlre0pH54Y"
      },
      "source": [
        "# 1.   Import the data, mount your Drive, print df.shape, and use df.info() to look for any missing values."
      ]
    },
    {
      "cell_type": "markdown",
      "metadata": {
        "id": "fmNKomEKKu67"
      },
      "source": [
        "![MA image](https://upload.wikimedia.org/wikipedia/commons/7/7e/Towns_income_per_capita_in_MA.jpg)"
      ]
    },
    {
      "cell_type": "markdown",
      "metadata": {
        "id": "anztQISULGD6"
      },
      "source": [
        "Figure: Map of locations by per capita income. Areas with higher levels of income are shaded darker.\n",
        "\n",
        "* https://en.wikipedia.org/wiki/List_of_Massachusetts_locations_by_per_capita_income"
      ]
    },
    {
      "cell_type": "code",
      "execution_count": null,
      "metadata": {
        "colab": {
          "base_uri": "https://localhost:8080/",
          "height": 424
        },
        "id": "5-LNh68yIje7",
        "outputId": "213b11a2-c1ad-4b23-fa16-298b940fde79"
      },
      "outputs": [
        {
          "output_type": "execute_result",
          "data": {
            "text/plain": [
              "     Rank  Municipality  Type     County Per capitaincome  \\\n",
              "0       1        Weston  Town  Middlesex         $105,217   \n",
              "1       2         Dover  Town    Norfolk          $89,476   \n",
              "2       3      Sherborn  Town  Middlesex          $82,550   \n",
              "3       4     Brookline  Town    Norfolk          $77,585   \n",
              "4       5        Newton  City  Middlesex          $73,420   \n",
              "..    ...           ...   ...        ...              ...   \n",
              "292   296       Amherst  Town  Hampshire          $19,796   \n",
              "293   297   Springfield  City    Hampden          $18,133   \n",
              "294   298      Lawrence  City      Essex          $16,987   \n",
              "295   299        Pelham  Town  Hampshire          $50,637   \n",
              "296   300  West Newbury  Town      Essex          $35,323   \n",
              "\n",
              "    Medianhouseholdincome Medianfamilyincome  Population  Number ofhouseholds  \n",
              "0                $256,300          $250,000+       11261                10769  \n",
              "1                $187,829           $193,750        6279                 5891  \n",
              "2                $172,750           $177,845        4301                 3541  \n",
              "3                $160,034           $175,833       59180                38431  \n",
              "4                $223,444           $164,063       88593                78427  \n",
              "..                    ...                ...         ...                  ...  \n",
              "292               $53,191            $96,733       38651                 8583  \n",
              "293               $34,311            $39,535      153428                55894  \n",
              "294               $32,851            $36,073       76820                26455  \n",
              "295               $82,596            $94,688        1353                  575  \n",
              "296              $112,828           $138,947        4500                 1392  \n",
              "\n",
              "[297 rows x 9 columns]"
            ],
            "text/html": [
              "\n",
              "  <div id=\"df-38830de7-78ed-440b-bee6-80279102964c\">\n",
              "    <div class=\"colab-df-container\">\n",
              "      <div>\n",
              "<style scoped>\n",
              "    .dataframe tbody tr th:only-of-type {\n",
              "        vertical-align: middle;\n",
              "    }\n",
              "\n",
              "    .dataframe tbody tr th {\n",
              "        vertical-align: top;\n",
              "    }\n",
              "\n",
              "    .dataframe thead th {\n",
              "        text-align: right;\n",
              "    }\n",
              "</style>\n",
              "<table border=\"1\" class=\"dataframe\">\n",
              "  <thead>\n",
              "    <tr style=\"text-align: right;\">\n",
              "      <th></th>\n",
              "      <th>Rank</th>\n",
              "      <th>Municipality</th>\n",
              "      <th>Type</th>\n",
              "      <th>County</th>\n",
              "      <th>Per capitaincome</th>\n",
              "      <th>Medianhouseholdincome</th>\n",
              "      <th>Medianfamilyincome</th>\n",
              "      <th>Population</th>\n",
              "      <th>Number ofhouseholds</th>\n",
              "    </tr>\n",
              "  </thead>\n",
              "  <tbody>\n",
              "    <tr>\n",
              "      <th>0</th>\n",
              "      <td>1</td>\n",
              "      <td>Weston</td>\n",
              "      <td>Town</td>\n",
              "      <td>Middlesex</td>\n",
              "      <td>$105,217</td>\n",
              "      <td>$256,300</td>\n",
              "      <td>$250,000+</td>\n",
              "      <td>11261</td>\n",
              "      <td>10769</td>\n",
              "    </tr>\n",
              "    <tr>\n",
              "      <th>1</th>\n",
              "      <td>2</td>\n",
              "      <td>Dover</td>\n",
              "      <td>Town</td>\n",
              "      <td>Norfolk</td>\n",
              "      <td>$89,476</td>\n",
              "      <td>$187,829</td>\n",
              "      <td>$193,750</td>\n",
              "      <td>6279</td>\n",
              "      <td>5891</td>\n",
              "    </tr>\n",
              "    <tr>\n",
              "      <th>2</th>\n",
              "      <td>3</td>\n",
              "      <td>Sherborn</td>\n",
              "      <td>Town</td>\n",
              "      <td>Middlesex</td>\n",
              "      <td>$82,550</td>\n",
              "      <td>$172,750</td>\n",
              "      <td>$177,845</td>\n",
              "      <td>4301</td>\n",
              "      <td>3541</td>\n",
              "    </tr>\n",
              "    <tr>\n",
              "      <th>3</th>\n",
              "      <td>4</td>\n",
              "      <td>Brookline</td>\n",
              "      <td>Town</td>\n",
              "      <td>Norfolk</td>\n",
              "      <td>$77,585</td>\n",
              "      <td>$160,034</td>\n",
              "      <td>$175,833</td>\n",
              "      <td>59180</td>\n",
              "      <td>38431</td>\n",
              "    </tr>\n",
              "    <tr>\n",
              "      <th>4</th>\n",
              "      <td>5</td>\n",
              "      <td>Newton</td>\n",
              "      <td>City</td>\n",
              "      <td>Middlesex</td>\n",
              "      <td>$73,420</td>\n",
              "      <td>$223,444</td>\n",
              "      <td>$164,063</td>\n",
              "      <td>88593</td>\n",
              "      <td>78427</td>\n",
              "    </tr>\n",
              "    <tr>\n",
              "      <th>...</th>\n",
              "      <td>...</td>\n",
              "      <td>...</td>\n",
              "      <td>...</td>\n",
              "      <td>...</td>\n",
              "      <td>...</td>\n",
              "      <td>...</td>\n",
              "      <td>...</td>\n",
              "      <td>...</td>\n",
              "      <td>...</td>\n",
              "    </tr>\n",
              "    <tr>\n",
              "      <th>292</th>\n",
              "      <td>296</td>\n",
              "      <td>Amherst</td>\n",
              "      <td>Town</td>\n",
              "      <td>Hampshire</td>\n",
              "      <td>$19,796</td>\n",
              "      <td>$53,191</td>\n",
              "      <td>$96,733</td>\n",
              "      <td>38651</td>\n",
              "      <td>8583</td>\n",
              "    </tr>\n",
              "    <tr>\n",
              "      <th>293</th>\n",
              "      <td>297</td>\n",
              "      <td>Springfield</td>\n",
              "      <td>City</td>\n",
              "      <td>Hampden</td>\n",
              "      <td>$18,133</td>\n",
              "      <td>$34,311</td>\n",
              "      <td>$39,535</td>\n",
              "      <td>153428</td>\n",
              "      <td>55894</td>\n",
              "    </tr>\n",
              "    <tr>\n",
              "      <th>294</th>\n",
              "      <td>298</td>\n",
              "      <td>Lawrence</td>\n",
              "      <td>City</td>\n",
              "      <td>Essex</td>\n",
              "      <td>$16,987</td>\n",
              "      <td>$32,851</td>\n",
              "      <td>$36,073</td>\n",
              "      <td>76820</td>\n",
              "      <td>26455</td>\n",
              "    </tr>\n",
              "    <tr>\n",
              "      <th>295</th>\n",
              "      <td>299</td>\n",
              "      <td>Pelham</td>\n",
              "      <td>Town</td>\n",
              "      <td>Hampshire</td>\n",
              "      <td>$50,637</td>\n",
              "      <td>$82,596</td>\n",
              "      <td>$94,688</td>\n",
              "      <td>1353</td>\n",
              "      <td>575</td>\n",
              "    </tr>\n",
              "    <tr>\n",
              "      <th>296</th>\n",
              "      <td>300</td>\n",
              "      <td>West Newbury</td>\n",
              "      <td>Town</td>\n",
              "      <td>Essex</td>\n",
              "      <td>$35,323</td>\n",
              "      <td>$112,828</td>\n",
              "      <td>$138,947</td>\n",
              "      <td>4500</td>\n",
              "      <td>1392</td>\n",
              "    </tr>\n",
              "  </tbody>\n",
              "</table>\n",
              "<p>297 rows × 9 columns</p>\n",
              "</div>\n",
              "      <button class=\"colab-df-convert\" onclick=\"convertToInteractive('df-38830de7-78ed-440b-bee6-80279102964c')\"\n",
              "              title=\"Convert this dataframe to an interactive table.\"\n",
              "              style=\"display:none;\">\n",
              "        \n",
              "  <svg xmlns=\"http://www.w3.org/2000/svg\" height=\"24px\"viewBox=\"0 0 24 24\"\n",
              "       width=\"24px\">\n",
              "    <path d=\"M0 0h24v24H0V0z\" fill=\"none\"/>\n",
              "    <path d=\"M18.56 5.44l.94 2.06.94-2.06 2.06-.94-2.06-.94-.94-2.06-.94 2.06-2.06.94zm-11 1L8.5 8.5l.94-2.06 2.06-.94-2.06-.94L8.5 2.5l-.94 2.06-2.06.94zm10 10l.94 2.06.94-2.06 2.06-.94-2.06-.94-.94-2.06-.94 2.06-2.06.94z\"/><path d=\"M17.41 7.96l-1.37-1.37c-.4-.4-.92-.59-1.43-.59-.52 0-1.04.2-1.43.59L10.3 9.45l-7.72 7.72c-.78.78-.78 2.05 0 2.83L4 21.41c.39.39.9.59 1.41.59.51 0 1.02-.2 1.41-.59l7.78-7.78 2.81-2.81c.8-.78.8-2.07 0-2.86zM5.41 20L4 18.59l7.72-7.72 1.47 1.35L5.41 20z\"/>\n",
              "  </svg>\n",
              "      </button>\n",
              "      \n",
              "  <style>\n",
              "    .colab-df-container {\n",
              "      display:flex;\n",
              "      flex-wrap:wrap;\n",
              "      gap: 12px;\n",
              "    }\n",
              "\n",
              "    .colab-df-convert {\n",
              "      background-color: #E8F0FE;\n",
              "      border: none;\n",
              "      border-radius: 50%;\n",
              "      cursor: pointer;\n",
              "      display: none;\n",
              "      fill: #1967D2;\n",
              "      height: 32px;\n",
              "      padding: 0 0 0 0;\n",
              "      width: 32px;\n",
              "    }\n",
              "\n",
              "    .colab-df-convert:hover {\n",
              "      background-color: #E2EBFA;\n",
              "      box-shadow: 0px 1px 2px rgba(60, 64, 67, 0.3), 0px 1px 3px 1px rgba(60, 64, 67, 0.15);\n",
              "      fill: #174EA6;\n",
              "    }\n",
              "\n",
              "    [theme=dark] .colab-df-convert {\n",
              "      background-color: #3B4455;\n",
              "      fill: #D2E3FC;\n",
              "    }\n",
              "\n",
              "    [theme=dark] .colab-df-convert:hover {\n",
              "      background-color: #434B5C;\n",
              "      box-shadow: 0px 1px 3px 1px rgba(0, 0, 0, 0.15);\n",
              "      filter: drop-shadow(0px 1px 2px rgba(0, 0, 0, 0.3));\n",
              "      fill: #FFFFFF;\n",
              "    }\n",
              "  </style>\n",
              "\n",
              "      <script>\n",
              "        const buttonEl =\n",
              "          document.querySelector('#df-38830de7-78ed-440b-bee6-80279102964c button.colab-df-convert');\n",
              "        buttonEl.style.display =\n",
              "          google.colab.kernel.accessAllowed ? 'block' : 'none';\n",
              "\n",
              "        async function convertToInteractive(key) {\n",
              "          const element = document.querySelector('#df-38830de7-78ed-440b-bee6-80279102964c');\n",
              "          const dataTable =\n",
              "            await google.colab.kernel.invokeFunction('convertToInteractive',\n",
              "                                                     [key], {});\n",
              "          if (!dataTable) return;\n",
              "\n",
              "          const docLinkHtml = 'Like what you see? Visit the ' +\n",
              "            '<a target=\"_blank\" href=https://colab.research.google.com/notebooks/data_table.ipynb>data table notebook</a>'\n",
              "            + ' to learn more about interactive tables.';\n",
              "          element.innerHTML = '';\n",
              "          dataTable['output_type'] = 'display_data';\n",
              "          await google.colab.output.renderOutput(dataTable, element);\n",
              "          const docLink = document.createElement('div');\n",
              "          docLink.innerHTML = docLinkHtml;\n",
              "          element.appendChild(docLink);\n",
              "        }\n",
              "      </script>\n",
              "    </div>\n",
              "  </div>\n",
              "  "
            ]
          },
          "metadata": {},
          "execution_count": 367
        }
      ],
      "source": [
        "import pandas as pd\n",
        "import numpy as np\n",
        "from matplotlib import pyplot as plt\n",
        "\n",
        "df = pd.read_html('https://en.wikipedia.org/wiki/List_of_Massachusetts_locations_by_per_capita_income')[2]\n",
        "df"
      ]
    },
    {
      "cell_type": "markdown",
      "metadata": {
        "id": "iX9xuLKjH80Y"
      },
      "source": [
        "# 2. Clean the data. Remove special characters like $ , and + and coerce appropriate columns to numeric."
      ]
    },
    {
      "cell_type": "code",
      "execution_count": null,
      "metadata": {
        "colab": {
          "base_uri": "https://localhost:8080/"
        },
        "id": "nokR5n1pAQVe",
        "outputId": "c873089f-e18f-4b20-e82e-78e8bc21e7cc"
      },
      "outputs": [
        {
          "output_type": "execute_result",
          "data": {
            "text/plain": [
              "(297, 9)"
            ]
          },
          "metadata": {},
          "execution_count": 368
        }
      ],
      "source": [
        "#Shape of the data.\n",
        "df.shape"
      ]
    },
    {
      "cell_type": "code",
      "execution_count": null,
      "metadata": {
        "colab": {
          "base_uri": "https://localhost:8080/"
        },
        "id": "axw-tjrAAnMn",
        "outputId": "f6364b99-ff9b-4273-be05-2fbdf127cc53"
      },
      "outputs": [
        {
          "output_type": "stream",
          "name": "stdout",
          "text": [
            "<class 'pandas.core.frame.DataFrame'>\n",
            "RangeIndex: 297 entries, 0 to 296\n",
            "Data columns (total 9 columns):\n",
            " #   Column                 Non-Null Count  Dtype \n",
            "---  ------                 --------------  ----- \n",
            " 0   Rank                   297 non-null    int64 \n",
            " 1   Municipality           297 non-null    object\n",
            " 2   Type                   297 non-null    object\n",
            " 3   County                 297 non-null    object\n",
            " 4   Per capitaincome       297 non-null    object\n",
            " 5   Medianhouseholdincome  297 non-null    object\n",
            " 6   Medianfamilyincome     297 non-null    object\n",
            " 7   Population             297 non-null    int64 \n",
            " 8   Number ofhouseholds    297 non-null    int64 \n",
            "dtypes: int64(3), object(6)\n",
            "memory usage: 21.0+ KB\n"
          ]
        }
      ],
      "source": [
        "# Dataset information\n",
        "df.info()"
      ]
    },
    {
      "cell_type": "code",
      "execution_count": null,
      "metadata": {
        "colab": {
          "base_uri": "https://localhost:8080/"
        },
        "id": "_SHZtbhvAzeq",
        "outputId": "29692ab9-8cb6-4f9f-bf2d-ece18c3713d2"
      },
      "outputs": [
        {
          "output_type": "execute_result",
          "data": {
            "text/plain": [
              "Rank                     0.0\n",
              "Municipality             0.0\n",
              "Type                     0.0\n",
              "County                   0.0\n",
              "Per capitaincome         0.0\n",
              "Medianhouseholdincome    0.0\n",
              "Medianfamilyincome       0.0\n",
              "Population               0.0\n",
              "Number ofhouseholds      0.0\n",
              "dtype: float64"
            ]
          },
          "metadata": {},
          "execution_count": 370
        }
      ],
      "source": [
        "# Percentage of missing values\n",
        "df.isna().sum().sort_values(ascending = False) / (len(df)) * 100 "
      ]
    },
    {
      "cell_type": "code",
      "execution_count": null,
      "metadata": {
        "colab": {
          "base_uri": "https://localhost:8080/"
        },
        "id": "Lyy4RHGnCuVM",
        "outputId": "66c9f0fb-4d0c-46f8-cb1a-a360ecb3aedd"
      },
      "outputs": [
        {
          "output_type": "stream",
          "name": "stderr",
          "text": [
            "/usr/local/lib/python3.7/dist-packages/ipykernel_launcher.py:3: FutureWarning: The default value of regex will change from True to False in a future version.\n",
            "  This is separate from the ipykernel package so we can avoid doing imports until\n",
            "/usr/local/lib/python3.7/dist-packages/ipykernel_launcher.py:4: FutureWarning: The default value of regex will change from True to False in a future version.\n",
            "  after removing the cwd from sys.path.\n",
            "/usr/local/lib/python3.7/dist-packages/ipykernel_launcher.py:5: FutureWarning: The default value of regex will change from True to False in a future version.\n",
            "  \"\"\"\n"
          ]
        }
      ],
      "source": [
        "# Removing Special characters from the numeric columns\n",
        "\n",
        "df['Per capitaincome'] = df['Per capitaincome'].str.replace('\\W', '')\n",
        "df['Medianhouseholdincome'] = df['Medianhouseholdincome'].str.replace('\\W', '')\n",
        "df['Medianfamilyincome'] = df['Medianfamilyincome'].str.replace('\\W', '')"
      ]
    },
    {
      "cell_type": "code",
      "execution_count": null,
      "metadata": {
        "colab": {
          "base_uri": "https://localhost:8080/",
          "height": 206
        },
        "id": "zRunHAqeDxPl",
        "outputId": "5679a257-d2c7-439d-cdb8-bb6d53598322"
      },
      "outputs": [
        {
          "output_type": "execute_result",
          "data": {
            "text/plain": [
              "   Rank Municipality  Type     County Per capitaincome Medianhouseholdincome  \\\n",
              "0     1       Weston  Town  Middlesex           105217                256300   \n",
              "1     2        Dover  Town    Norfolk            89476                187829   \n",
              "2     3     Sherborn  Town  Middlesex            82550                172750   \n",
              "3     4    Brookline  Town    Norfolk            77585                160034   \n",
              "4     5       Newton  City  Middlesex            73420                223444   \n",
              "\n",
              "  Medianfamilyincome  Population  Number ofhouseholds  \n",
              "0             250000       11261                10769  \n",
              "1             193750        6279                 5891  \n",
              "2             177845        4301                 3541  \n",
              "3             175833       59180                38431  \n",
              "4             164063       88593                78427  "
            ],
            "text/html": [
              "\n",
              "  <div id=\"df-90a8a8c5-6af2-40f7-86c2-bf5a2738e33c\">\n",
              "    <div class=\"colab-df-container\">\n",
              "      <div>\n",
              "<style scoped>\n",
              "    .dataframe tbody tr th:only-of-type {\n",
              "        vertical-align: middle;\n",
              "    }\n",
              "\n",
              "    .dataframe tbody tr th {\n",
              "        vertical-align: top;\n",
              "    }\n",
              "\n",
              "    .dataframe thead th {\n",
              "        text-align: right;\n",
              "    }\n",
              "</style>\n",
              "<table border=\"1\" class=\"dataframe\">\n",
              "  <thead>\n",
              "    <tr style=\"text-align: right;\">\n",
              "      <th></th>\n",
              "      <th>Rank</th>\n",
              "      <th>Municipality</th>\n",
              "      <th>Type</th>\n",
              "      <th>County</th>\n",
              "      <th>Per capitaincome</th>\n",
              "      <th>Medianhouseholdincome</th>\n",
              "      <th>Medianfamilyincome</th>\n",
              "      <th>Population</th>\n",
              "      <th>Number ofhouseholds</th>\n",
              "    </tr>\n",
              "  </thead>\n",
              "  <tbody>\n",
              "    <tr>\n",
              "      <th>0</th>\n",
              "      <td>1</td>\n",
              "      <td>Weston</td>\n",
              "      <td>Town</td>\n",
              "      <td>Middlesex</td>\n",
              "      <td>105217</td>\n",
              "      <td>256300</td>\n",
              "      <td>250000</td>\n",
              "      <td>11261</td>\n",
              "      <td>10769</td>\n",
              "    </tr>\n",
              "    <tr>\n",
              "      <th>1</th>\n",
              "      <td>2</td>\n",
              "      <td>Dover</td>\n",
              "      <td>Town</td>\n",
              "      <td>Norfolk</td>\n",
              "      <td>89476</td>\n",
              "      <td>187829</td>\n",
              "      <td>193750</td>\n",
              "      <td>6279</td>\n",
              "      <td>5891</td>\n",
              "    </tr>\n",
              "    <tr>\n",
              "      <th>2</th>\n",
              "      <td>3</td>\n",
              "      <td>Sherborn</td>\n",
              "      <td>Town</td>\n",
              "      <td>Middlesex</td>\n",
              "      <td>82550</td>\n",
              "      <td>172750</td>\n",
              "      <td>177845</td>\n",
              "      <td>4301</td>\n",
              "      <td>3541</td>\n",
              "    </tr>\n",
              "    <tr>\n",
              "      <th>3</th>\n",
              "      <td>4</td>\n",
              "      <td>Brookline</td>\n",
              "      <td>Town</td>\n",
              "      <td>Norfolk</td>\n",
              "      <td>77585</td>\n",
              "      <td>160034</td>\n",
              "      <td>175833</td>\n",
              "      <td>59180</td>\n",
              "      <td>38431</td>\n",
              "    </tr>\n",
              "    <tr>\n",
              "      <th>4</th>\n",
              "      <td>5</td>\n",
              "      <td>Newton</td>\n",
              "      <td>City</td>\n",
              "      <td>Middlesex</td>\n",
              "      <td>73420</td>\n",
              "      <td>223444</td>\n",
              "      <td>164063</td>\n",
              "      <td>88593</td>\n",
              "      <td>78427</td>\n",
              "    </tr>\n",
              "  </tbody>\n",
              "</table>\n",
              "</div>\n",
              "      <button class=\"colab-df-convert\" onclick=\"convertToInteractive('df-90a8a8c5-6af2-40f7-86c2-bf5a2738e33c')\"\n",
              "              title=\"Convert this dataframe to an interactive table.\"\n",
              "              style=\"display:none;\">\n",
              "        \n",
              "  <svg xmlns=\"http://www.w3.org/2000/svg\" height=\"24px\"viewBox=\"0 0 24 24\"\n",
              "       width=\"24px\">\n",
              "    <path d=\"M0 0h24v24H0V0z\" fill=\"none\"/>\n",
              "    <path d=\"M18.56 5.44l.94 2.06.94-2.06 2.06-.94-2.06-.94-.94-2.06-.94 2.06-2.06.94zm-11 1L8.5 8.5l.94-2.06 2.06-.94-2.06-.94L8.5 2.5l-.94 2.06-2.06.94zm10 10l.94 2.06.94-2.06 2.06-.94-2.06-.94-.94-2.06-.94 2.06-2.06.94z\"/><path d=\"M17.41 7.96l-1.37-1.37c-.4-.4-.92-.59-1.43-.59-.52 0-1.04.2-1.43.59L10.3 9.45l-7.72 7.72c-.78.78-.78 2.05 0 2.83L4 21.41c.39.39.9.59 1.41.59.51 0 1.02-.2 1.41-.59l7.78-7.78 2.81-2.81c.8-.78.8-2.07 0-2.86zM5.41 20L4 18.59l7.72-7.72 1.47 1.35L5.41 20z\"/>\n",
              "  </svg>\n",
              "      </button>\n",
              "      \n",
              "  <style>\n",
              "    .colab-df-container {\n",
              "      display:flex;\n",
              "      flex-wrap:wrap;\n",
              "      gap: 12px;\n",
              "    }\n",
              "\n",
              "    .colab-df-convert {\n",
              "      background-color: #E8F0FE;\n",
              "      border: none;\n",
              "      border-radius: 50%;\n",
              "      cursor: pointer;\n",
              "      display: none;\n",
              "      fill: #1967D2;\n",
              "      height: 32px;\n",
              "      padding: 0 0 0 0;\n",
              "      width: 32px;\n",
              "    }\n",
              "\n",
              "    .colab-df-convert:hover {\n",
              "      background-color: #E2EBFA;\n",
              "      box-shadow: 0px 1px 2px rgba(60, 64, 67, 0.3), 0px 1px 3px 1px rgba(60, 64, 67, 0.15);\n",
              "      fill: #174EA6;\n",
              "    }\n",
              "\n",
              "    [theme=dark] .colab-df-convert {\n",
              "      background-color: #3B4455;\n",
              "      fill: #D2E3FC;\n",
              "    }\n",
              "\n",
              "    [theme=dark] .colab-df-convert:hover {\n",
              "      background-color: #434B5C;\n",
              "      box-shadow: 0px 1px 3px 1px rgba(0, 0, 0, 0.15);\n",
              "      filter: drop-shadow(0px 1px 2px rgba(0, 0, 0, 0.3));\n",
              "      fill: #FFFFFF;\n",
              "    }\n",
              "  </style>\n",
              "\n",
              "      <script>\n",
              "        const buttonEl =\n",
              "          document.querySelector('#df-90a8a8c5-6af2-40f7-86c2-bf5a2738e33c button.colab-df-convert');\n",
              "        buttonEl.style.display =\n",
              "          google.colab.kernel.accessAllowed ? 'block' : 'none';\n",
              "\n",
              "        async function convertToInteractive(key) {\n",
              "          const element = document.querySelector('#df-90a8a8c5-6af2-40f7-86c2-bf5a2738e33c');\n",
              "          const dataTable =\n",
              "            await google.colab.kernel.invokeFunction('convertToInteractive',\n",
              "                                                     [key], {});\n",
              "          if (!dataTable) return;\n",
              "\n",
              "          const docLinkHtml = 'Like what you see? Visit the ' +\n",
              "            '<a target=\"_blank\" href=https://colab.research.google.com/notebooks/data_table.ipynb>data table notebook</a>'\n",
              "            + ' to learn more about interactive tables.';\n",
              "          element.innerHTML = '';\n",
              "          dataTable['output_type'] = 'display_data';\n",
              "          await google.colab.output.renderOutput(dataTable, element);\n",
              "          const docLink = document.createElement('div');\n",
              "          docLink.innerHTML = docLinkHtml;\n",
              "          element.appendChild(docLink);\n",
              "        }\n",
              "      </script>\n",
              "    </div>\n",
              "  </div>\n",
              "  "
            ]
          },
          "metadata": {},
          "execution_count": 372
        }
      ],
      "source": [
        "# Printing the updated dataset\n",
        "df.head(5)"
      ]
    },
    {
      "cell_type": "code",
      "execution_count": null,
      "metadata": {
        "colab": {
          "base_uri": "https://localhost:8080/"
        },
        "id": "2hKAuYM-FAlK",
        "outputId": "aa427938-eac0-44c3-c57f-27051fad6993"
      },
      "outputs": [
        {
          "output_type": "execute_result",
          "data": {
            "text/plain": [
              "Rank                      int64\n",
              "Municipality             object\n",
              "Type                     object\n",
              "County                   object\n",
              "Per capitaincome         object\n",
              "Medianhouseholdincome    object\n",
              "Medianfamilyincome       object\n",
              "Population                int64\n",
              "Number ofhouseholds       int64\n",
              "dtype: object"
            ]
          },
          "metadata": {},
          "execution_count": 373
        }
      ],
      "source": [
        "# Checking data types for each columns\n",
        "df.dtypes"
      ]
    },
    {
      "cell_type": "code",
      "execution_count": null,
      "metadata": {
        "id": "rsgmpg2cFIWi"
      },
      "outputs": [],
      "source": [
        "# We need to change the datatypes for some columns from object to numeric\n",
        "# convert column \"a\" to int64 dtype and \"b\" to complex type\n",
        "df = df.astype({\"Per capitaincome\": int, \"Medianhouseholdincome\": int,\"Medianfamilyincome\": int })"
      ]
    },
    {
      "cell_type": "code",
      "execution_count": null,
      "metadata": {
        "colab": {
          "base_uri": "https://localhost:8080/"
        },
        "id": "qNdowM8_F3Zf",
        "outputId": "d2b23634-17e3-455a-cb47-86d0129150e0"
      },
      "outputs": [
        {
          "output_type": "execute_result",
          "data": {
            "text/plain": [
              "Rank                      int64\n",
              "Municipality             object\n",
              "Type                     object\n",
              "County                   object\n",
              "Per capitaincome          int64\n",
              "Medianhouseholdincome     int64\n",
              "Medianfamilyincome        int64\n",
              "Population                int64\n",
              "Number ofhouseholds       int64\n",
              "dtype: object"
            ]
          },
          "metadata": {},
          "execution_count": 375
        }
      ],
      "source": [
        "# Review the changed datatypes\n",
        "df.dtypes"
      ]
    },
    {
      "cell_type": "code",
      "execution_count": null,
      "metadata": {
        "colab": {
          "base_uri": "https://localhost:8080/",
          "height": 206
        },
        "id": "lZtsLPTemk5V",
        "outputId": "7515b343-1077-4299-9a0d-43952e826887"
      },
      "outputs": [
        {
          "output_type": "execute_result",
          "data": {
            "text/plain": [
              "   Rank Municipality  Type     County  Per capitaincome  \\\n",
              "0     1       Weston  Town  Middlesex            105217   \n",
              "1     2        Dover  Town    Norfolk             89476   \n",
              "2     3     Sherborn  Town  Middlesex             82550   \n",
              "3     4    Brookline  Town    Norfolk             77585   \n",
              "4     5       Newton  City  Middlesex             73420   \n",
              "\n",
              "   Medianhouseholdincome  Medianfamilyincome  Population  Number ofhouseholds  \n",
              "0                 256300              250000       11261                10769  \n",
              "1                 187829              193750        6279                 5891  \n",
              "2                 172750              177845        4301                 3541  \n",
              "3                 160034              175833       59180                38431  \n",
              "4                 223444              164063       88593                78427  "
            ],
            "text/html": [
              "\n",
              "  <div id=\"df-76fa059a-7487-4e51-905e-80dcb62239d6\">\n",
              "    <div class=\"colab-df-container\">\n",
              "      <div>\n",
              "<style scoped>\n",
              "    .dataframe tbody tr th:only-of-type {\n",
              "        vertical-align: middle;\n",
              "    }\n",
              "\n",
              "    .dataframe tbody tr th {\n",
              "        vertical-align: top;\n",
              "    }\n",
              "\n",
              "    .dataframe thead th {\n",
              "        text-align: right;\n",
              "    }\n",
              "</style>\n",
              "<table border=\"1\" class=\"dataframe\">\n",
              "  <thead>\n",
              "    <tr style=\"text-align: right;\">\n",
              "      <th></th>\n",
              "      <th>Rank</th>\n",
              "      <th>Municipality</th>\n",
              "      <th>Type</th>\n",
              "      <th>County</th>\n",
              "      <th>Per capitaincome</th>\n",
              "      <th>Medianhouseholdincome</th>\n",
              "      <th>Medianfamilyincome</th>\n",
              "      <th>Population</th>\n",
              "      <th>Number ofhouseholds</th>\n",
              "    </tr>\n",
              "  </thead>\n",
              "  <tbody>\n",
              "    <tr>\n",
              "      <th>0</th>\n",
              "      <td>1</td>\n",
              "      <td>Weston</td>\n",
              "      <td>Town</td>\n",
              "      <td>Middlesex</td>\n",
              "      <td>105217</td>\n",
              "      <td>256300</td>\n",
              "      <td>250000</td>\n",
              "      <td>11261</td>\n",
              "      <td>10769</td>\n",
              "    </tr>\n",
              "    <tr>\n",
              "      <th>1</th>\n",
              "      <td>2</td>\n",
              "      <td>Dover</td>\n",
              "      <td>Town</td>\n",
              "      <td>Norfolk</td>\n",
              "      <td>89476</td>\n",
              "      <td>187829</td>\n",
              "      <td>193750</td>\n",
              "      <td>6279</td>\n",
              "      <td>5891</td>\n",
              "    </tr>\n",
              "    <tr>\n",
              "      <th>2</th>\n",
              "      <td>3</td>\n",
              "      <td>Sherborn</td>\n",
              "      <td>Town</td>\n",
              "      <td>Middlesex</td>\n",
              "      <td>82550</td>\n",
              "      <td>172750</td>\n",
              "      <td>177845</td>\n",
              "      <td>4301</td>\n",
              "      <td>3541</td>\n",
              "    </tr>\n",
              "    <tr>\n",
              "      <th>3</th>\n",
              "      <td>4</td>\n",
              "      <td>Brookline</td>\n",
              "      <td>Town</td>\n",
              "      <td>Norfolk</td>\n",
              "      <td>77585</td>\n",
              "      <td>160034</td>\n",
              "      <td>175833</td>\n",
              "      <td>59180</td>\n",
              "      <td>38431</td>\n",
              "    </tr>\n",
              "    <tr>\n",
              "      <th>4</th>\n",
              "      <td>5</td>\n",
              "      <td>Newton</td>\n",
              "      <td>City</td>\n",
              "      <td>Middlesex</td>\n",
              "      <td>73420</td>\n",
              "      <td>223444</td>\n",
              "      <td>164063</td>\n",
              "      <td>88593</td>\n",
              "      <td>78427</td>\n",
              "    </tr>\n",
              "  </tbody>\n",
              "</table>\n",
              "</div>\n",
              "      <button class=\"colab-df-convert\" onclick=\"convertToInteractive('df-76fa059a-7487-4e51-905e-80dcb62239d6')\"\n",
              "              title=\"Convert this dataframe to an interactive table.\"\n",
              "              style=\"display:none;\">\n",
              "        \n",
              "  <svg xmlns=\"http://www.w3.org/2000/svg\" height=\"24px\"viewBox=\"0 0 24 24\"\n",
              "       width=\"24px\">\n",
              "    <path d=\"M0 0h24v24H0V0z\" fill=\"none\"/>\n",
              "    <path d=\"M18.56 5.44l.94 2.06.94-2.06 2.06-.94-2.06-.94-.94-2.06-.94 2.06-2.06.94zm-11 1L8.5 8.5l.94-2.06 2.06-.94-2.06-.94L8.5 2.5l-.94 2.06-2.06.94zm10 10l.94 2.06.94-2.06 2.06-.94-2.06-.94-.94-2.06-.94 2.06-2.06.94z\"/><path d=\"M17.41 7.96l-1.37-1.37c-.4-.4-.92-.59-1.43-.59-.52 0-1.04.2-1.43.59L10.3 9.45l-7.72 7.72c-.78.78-.78 2.05 0 2.83L4 21.41c.39.39.9.59 1.41.59.51 0 1.02-.2 1.41-.59l7.78-7.78 2.81-2.81c.8-.78.8-2.07 0-2.86zM5.41 20L4 18.59l7.72-7.72 1.47 1.35L5.41 20z\"/>\n",
              "  </svg>\n",
              "      </button>\n",
              "      \n",
              "  <style>\n",
              "    .colab-df-container {\n",
              "      display:flex;\n",
              "      flex-wrap:wrap;\n",
              "      gap: 12px;\n",
              "    }\n",
              "\n",
              "    .colab-df-convert {\n",
              "      background-color: #E8F0FE;\n",
              "      border: none;\n",
              "      border-radius: 50%;\n",
              "      cursor: pointer;\n",
              "      display: none;\n",
              "      fill: #1967D2;\n",
              "      height: 32px;\n",
              "      padding: 0 0 0 0;\n",
              "      width: 32px;\n",
              "    }\n",
              "\n",
              "    .colab-df-convert:hover {\n",
              "      background-color: #E2EBFA;\n",
              "      box-shadow: 0px 1px 2px rgba(60, 64, 67, 0.3), 0px 1px 3px 1px rgba(60, 64, 67, 0.15);\n",
              "      fill: #174EA6;\n",
              "    }\n",
              "\n",
              "    [theme=dark] .colab-df-convert {\n",
              "      background-color: #3B4455;\n",
              "      fill: #D2E3FC;\n",
              "    }\n",
              "\n",
              "    [theme=dark] .colab-df-convert:hover {\n",
              "      background-color: #434B5C;\n",
              "      box-shadow: 0px 1px 3px 1px rgba(0, 0, 0, 0.15);\n",
              "      filter: drop-shadow(0px 1px 2px rgba(0, 0, 0, 0.3));\n",
              "      fill: #FFFFFF;\n",
              "    }\n",
              "  </style>\n",
              "\n",
              "      <script>\n",
              "        const buttonEl =\n",
              "          document.querySelector('#df-76fa059a-7487-4e51-905e-80dcb62239d6 button.colab-df-convert');\n",
              "        buttonEl.style.display =\n",
              "          google.colab.kernel.accessAllowed ? 'block' : 'none';\n",
              "\n",
              "        async function convertToInteractive(key) {\n",
              "          const element = document.querySelector('#df-76fa059a-7487-4e51-905e-80dcb62239d6');\n",
              "          const dataTable =\n",
              "            await google.colab.kernel.invokeFunction('convertToInteractive',\n",
              "                                                     [key], {});\n",
              "          if (!dataTable) return;\n",
              "\n",
              "          const docLinkHtml = 'Like what you see? Visit the ' +\n",
              "            '<a target=\"_blank\" href=https://colab.research.google.com/notebooks/data_table.ipynb>data table notebook</a>'\n",
              "            + ' to learn more about interactive tables.';\n",
              "          element.innerHTML = '';\n",
              "          dataTable['output_type'] = 'display_data';\n",
              "          await google.colab.output.renderOutput(dataTable, element);\n",
              "          const docLink = document.createElement('div');\n",
              "          docLink.innerHTML = docLinkHtml;\n",
              "          element.appendChild(docLink);\n",
              "        }\n",
              "      </script>\n",
              "    </div>\n",
              "  </div>\n",
              "  "
            ]
          },
          "metadata": {},
          "execution_count": 376
        }
      ],
      "source": [
        "df.head(5)"
      ]
    },
    {
      "cell_type": "code",
      "execution_count": null,
      "metadata": {
        "colab": {
          "base_uri": "https://localhost:8080/"
        },
        "id": "KE4Z5Aja7IOK",
        "outputId": "89ba1b38-1d01-46df-d6fd-da045d7d3b1d"
      },
      "outputs": [
        {
          "output_type": "execute_result",
          "data": {
            "text/plain": [
              "Town     249\n",
              "City      47\n",
              "Essex      1\n",
              "Name: Type, dtype: int64"
            ]
          },
          "metadata": {},
          "execution_count": 377
        }
      ],
      "source": [
        "# Checking the categories under Type column\n",
        "df['Type'].value_counts()"
      ]
    },
    {
      "cell_type": "code",
      "execution_count": null,
      "metadata": {
        "id": "kKSWgxAt7MUX"
      },
      "outputs": [],
      "source": [
        "# Changing the name of Essex to Other since it has only one count in the entire dataset\n",
        "df['Type'] = df['Type'].replace(['Essex'],'Other')"
      ]
    },
    {
      "cell_type": "code",
      "execution_count": null,
      "metadata": {
        "colab": {
          "base_uri": "https://localhost:8080/",
          "height": 387
        },
        "id": "TDjeVMLJflzu",
        "outputId": "7a6ceb8f-3eb8-4d79-af1d-cb9ec1613809"
      },
      "outputs": [
        {
          "output_type": "execute_result",
          "data": {
            "text/plain": [
              "<seaborn.axisgrid.FacetGrid at 0x7f4effe40950>"
            ]
          },
          "metadata": {},
          "execution_count": 379
        },
        {
          "output_type": "display_data",
          "data": {
            "text/plain": [
              "<Figure size 1080x360 with 3 Axes>"
            ],
            "image/png": "[encoded data removed]"
          },
          "metadata": {}
        }
      ],
      "source": [
        "# Plotting the data distribution\n",
        "import seaborn as sns\n",
        "sns.displot(df, x= \"Per capitaincome\", col = \"Type\")"
      ]
    },
    {
      "cell_type": "code",
      "execution_count": null,
      "metadata": {
        "colab": {
          "base_uri": "https://localhost:8080/",
          "height": 387
        },
        "id": "bYEy-Hwo8dsn",
        "outputId": "922a79d1-f46f-4b05-bc2b-bd7c0c740532"
      },
      "outputs": [
        {
          "output_type": "execute_result",
          "data": {
            "text/plain": [
              "<seaborn.axisgrid.FacetGrid at 0x7f4eff1ff7d0>"
            ]
          },
          "metadata": {},
          "execution_count": 380
        },
        {
          "output_type": "display_data",
          "data": {
            "text/plain": [
              "<Figure size 1080x360 with 3 Axes>"
            ],
            "image/png": "[encoded data removed]"
          },
          "metadata": {}
        }
      ],
      "source": [
        "# Identifying and Cleaning the outliers\n",
        "upperOutliers = df['Per capitaincome'].quantile(0.98)\n",
        "\n",
        "#filtering the outliers\n",
        "df = df[df['Per capitaincome'] < upperOutliers]\n",
        "\n",
        "# Plotting the data distribution\n",
        "import seaborn as sns\n",
        "sns.displot(df, x= \"Per capitaincome\", col = \"Type\")"
      ]
    },
    {
      "cell_type": "code",
      "execution_count": null,
      "metadata": {
        "colab": {
          "base_uri": "https://localhost:8080/"
        },
        "id": "2HtxrvX4AGRa",
        "outputId": "9bae4473-4b66-43ad-907f-b20fe51ab75e"
      },
      "outputs": [
        {
          "output_type": "execute_result",
          "data": {
            "text/plain": [
              "(291, 9)"
            ]
          },
          "metadata": {},
          "execution_count": 381
        }
      ],
      "source": [
        "# Detecting change in number of rows\n",
        "df.shape"
      ]
    },
    {
      "cell_type": "code",
      "execution_count": null,
      "metadata": {
        "colab": {
          "base_uri": "https://localhost:8080/",
          "height": 279
        },
        "id": "X78Xw_FihLnG",
        "outputId": "3ae93273-1fc1-4e5f-cfd4-c0936af48277"
      },
      "outputs": [
        {
          "output_type": "display_data",
          "data": {
            "text/plain": [
              "<Figure size 432x288 with 1 Axes>"
            ],
            "image/png": "[encoded data removed]"
          },
          "metadata": {}
        }
      ],
      "source": [
        "# Outlier detection for predictor variable - Population\n",
        "\n",
        "sns.set_style('whitegrid')\n",
        "ax  = sns.boxplot(x='Type', y='Population', data = df)\n",
        "ax = sns.stripplot(x='Type', y='Population', data = df)"
      ]
    },
    {
      "cell_type": "code",
      "execution_count": null,
      "metadata": {
        "colab": {
          "base_uri": "https://localhost:8080/",
          "height": 279
        },
        "id": "UivID_1M_2Op",
        "outputId": "15f8df49-8a56-483d-8557-cef503c24545"
      },
      "outputs": [
        {
          "output_type": "display_data",
          "data": {
            "text/plain": [
              "<Figure size 432x288 with 1 Axes>"
            ],
            "image/png": "[encoded data removed]"
          },
          "metadata": {}
        }
      ],
      "source": [
        "# Identifying and Cleaning the outliers\n",
        "upperOutliers = df['Population'].quantile(0.98)\n",
        "\n",
        "#filtering the outliers\n",
        "df = df[df['Population'] < upperOutliers]\n",
        "\n",
        "# Plotting the data distribution\n",
        "sns.set_style('whitegrid')\n",
        "ax  = sns.boxplot(x='Type', y='Population', data = df)\n",
        "ax = sns.stripplot(x='Type', y='Population', data = df)"
      ]
    },
    {
      "cell_type": "code",
      "execution_count": null,
      "metadata": {
        "colab": {
          "base_uri": "https://localhost:8080/"
        },
        "id": "7NNSllImANnR",
        "outputId": "6356f623-b854-41f1-beff-124bda3e1dba"
      },
      "outputs": [
        {
          "output_type": "execute_result",
          "data": {
            "text/plain": [
              "(285, 9)"
            ]
          },
          "metadata": {},
          "execution_count": 384
        }
      ],
      "source": [
        "# Detecting change in number of rows\n",
        "df.shape"
      ]
    },
    {
      "cell_type": "code",
      "execution_count": null,
      "metadata": {
        "colab": {
          "base_uri": "https://localhost:8080/",
          "height": 740
        },
        "id": "e-x7GM4DAaG9",
        "outputId": "2306cec4-a136-4e78-d913-bc55e99ab612"
      },
      "outputs": [
        {
          "output_type": "execute_result",
          "data": {
            "text/plain": [
              "<matplotlib.axes._subplots.AxesSubplot at 0x7f4efe5b2150>"
            ]
          },
          "metadata": {},
          "execution_count": 385
        },
        {
          "output_type": "display_data",
          "data": {
            "text/plain": [
              "<Figure size 1080x720 with 2 Axes>"
            ],
            "image/png": "[encoded data removed]"
          },
          "metadata": {}
        }
      ],
      "source": [
        "plt.figure(figsize=(15,10)) #Configuring plot size\n",
        "plt.title(\"Correlation Plot for Dataframe\")\n",
        "sns.heatmap(df.corr(),annot=True) #Heatmap for correlation co-efficients "
      ]
    },
    {
      "cell_type": "markdown",
      "metadata": {
        "id": "rNstBKpYIAHp"
      },
      "source": [
        "# 3. Assign Y = to df['Per capitaincome'].\n"
      ]
    },
    {
      "cell_type": "code",
      "execution_count": null,
      "metadata": {
        "id": "4XggO4eiAmw9"
      },
      "outputs": [],
      "source": [
        "# Assiging column to Y dataframe for modeling\n",
        "Y = df['Per capitaincome']"
      ]
    },
    {
      "cell_type": "markdown",
      "metadata": {
        "id": "jFMn3NeHICax"
      },
      "source": [
        "\n",
        "# 4. Subset columns for modeling\n",
        "\n",
        "* Type\n",
        "* Population\n",
        "* Number ofhouseholds\n",
        "\n",
        "  **Useful link for subsetting rows and columns:** https://www.kdnuggets.com/2019/06/select-rows-columns-pandas.html"
      ]
    },
    {
      "cell_type": "code",
      "execution_count": null,
      "metadata": {
        "id": "m1yPWVctGnHu"
      },
      "outputs": [],
      "source": [
        "# Assiging columns to X by subsettting the dataframe for modeling\n",
        "df1 = pd.get_dummies(df['Type'])\n",
        "df2 = df[['Population','Number ofhouseholds']]\n",
        "X = [df1,df2]\n",
        "X = pd.concat(X, axis = 1)"
      ]
    },
    {
      "cell_type": "code",
      "source": [
        "X.head()"
      ],
      "metadata": {
        "colab": {
          "base_uri": "https://localhost:8080/",
          "height": 206
        },
        "id": "DkKbicJEWlCX",
        "outputId": "5e8e1e96-5b07-4e24-b7a8-995b57828d63"
      },
      "execution_count": null,
      "outputs": [
        {
          "output_type": "execute_result",
          "data": {
            "text/plain": [
              "    City  Other  Town  Population  Number ofhouseholds\n",
              "6      0      0     1       17669                15544\n",
              "7      0      0     1       11386                 6413\n",
              "8      0      0     1        5224                 1876\n",
              "9      0      0     1       28747                25084\n",
              "10     0      0     1       18317                15084"
            ],
            "text/html": [
              "\n",
              "  <div id=\"df-01cbfe10-55f8-499d-8131-165ec32c576b\">\n",
              "    <div class=\"colab-df-container\">\n",
              "      <div>\n",
              "<style scoped>\n",
              "    .dataframe tbody tr th:only-of-type {\n",
              "        vertical-align: middle;\n",
              "    }\n",
              "\n",
              "    .dataframe tbody tr th {\n",
              "        vertical-align: top;\n",
              "    }\n",
              "\n",
              "    .dataframe thead th {\n",
              "        text-align: right;\n",
              "    }\n",
              "</style>\n",
              "<table border=\"1\" class=\"dataframe\">\n",
              "  <thead>\n",
              "    <tr style=\"text-align: right;\">\n",
              "      <th></th>\n",
              "      <th>City</th>\n",
              "      <th>Other</th>\n",
              "      <th>Town</th>\n",
              "      <th>Population</th>\n",
              "      <th>Number ofhouseholds</th>\n",
              "    </tr>\n",
              "  </thead>\n",
              "  <tbody>\n",
              "    <tr>\n",
              "      <th>6</th>\n",
              "      <td>0</td>\n",
              "      <td>0</td>\n",
              "      <td>1</td>\n",
              "      <td>17669</td>\n",
              "      <td>15544</td>\n",
              "    </tr>\n",
              "    <tr>\n",
              "      <th>7</th>\n",
              "      <td>0</td>\n",
              "      <td>0</td>\n",
              "      <td>1</td>\n",
              "      <td>11386</td>\n",
              "      <td>6413</td>\n",
              "    </tr>\n",
              "    <tr>\n",
              "      <th>8</th>\n",
              "      <td>0</td>\n",
              "      <td>0</td>\n",
              "      <td>1</td>\n",
              "      <td>5224</td>\n",
              "      <td>1876</td>\n",
              "    </tr>\n",
              "    <tr>\n",
              "      <th>9</th>\n",
              "      <td>0</td>\n",
              "      <td>0</td>\n",
              "      <td>1</td>\n",
              "      <td>28747</td>\n",
              "      <td>25084</td>\n",
              "    </tr>\n",
              "    <tr>\n",
              "      <th>10</th>\n",
              "      <td>0</td>\n",
              "      <td>0</td>\n",
              "      <td>1</td>\n",
              "      <td>18317</td>\n",
              "      <td>15084</td>\n",
              "    </tr>\n",
              "  </tbody>\n",
              "</table>\n",
              "</div>\n",
              "      <button class=\"colab-df-convert\" onclick=\"convertToInteractive('df-01cbfe10-55f8-499d-8131-165ec32c576b')\"\n",
              "              title=\"Convert this dataframe to an interactive table.\"\n",
              "              style=\"display:none;\">\n",
              "        \n",
              "  <svg xmlns=\"http://www.w3.org/2000/svg\" height=\"24px\"viewBox=\"0 0 24 24\"\n",
              "       width=\"24px\">\n",
              "    <path d=\"M0 0h24v24H0V0z\" fill=\"none\"/>\n",
              "    <path d=\"M18.56 5.44l.94 2.06.94-2.06 2.06-.94-2.06-.94-.94-2.06-.94 2.06-2.06.94zm-11 1L8.5 8.5l.94-2.06 2.06-.94-2.06-.94L8.5 2.5l-.94 2.06-2.06.94zm10 10l.94 2.06.94-2.06 2.06-.94-2.06-.94-.94-2.06-.94 2.06-2.06.94z\"/><path d=\"M17.41 7.96l-1.37-1.37c-.4-.4-.92-.59-1.43-.59-.52 0-1.04.2-1.43.59L10.3 9.45l-7.72 7.72c-.78.78-.78 2.05 0 2.83L4 21.41c.39.39.9.59 1.41.59.51 0 1.02-.2 1.41-.59l7.78-7.78 2.81-2.81c.8-.78.8-2.07 0-2.86zM5.41 20L4 18.59l7.72-7.72 1.47 1.35L5.41 20z\"/>\n",
              "  </svg>\n",
              "      </button>\n",
              "      \n",
              "  <style>\n",
              "    .colab-df-container {\n",
              "      display:flex;\n",
              "      flex-wrap:wrap;\n",
              "      gap: 12px;\n",
              "    }\n",
              "\n",
              "    .colab-df-convert {\n",
              "      background-color: #E8F0FE;\n",
              "      border: none;\n",
              "      border-radius: 50%;\n",
              "      cursor: pointer;\n",
              "      display: none;\n",
              "      fill: #1967D2;\n",
              "      height: 32px;\n",
              "      padding: 0 0 0 0;\n",
              "      width: 32px;\n",
              "    }\n",
              "\n",
              "    .colab-df-convert:hover {\n",
              "      background-color: #E2EBFA;\n",
              "      box-shadow: 0px 1px 2px rgba(60, 64, 67, 0.3), 0px 1px 3px 1px rgba(60, 64, 67, 0.15);\n",
              "      fill: #174EA6;\n",
              "    }\n",
              "\n",
              "    [theme=dark] .colab-df-convert {\n",
              "      background-color: #3B4455;\n",
              "      fill: #D2E3FC;\n",
              "    }\n",
              "\n",
              "    [theme=dark] .colab-df-convert:hover {\n",
              "      background-color: #434B5C;\n",
              "      box-shadow: 0px 1px 3px 1px rgba(0, 0, 0, 0.15);\n",
              "      filter: drop-shadow(0px 1px 2px rgba(0, 0, 0, 0.3));\n",
              "      fill: #FFFFFF;\n",
              "    }\n",
              "  </style>\n",
              "\n",
              "      <script>\n",
              "        const buttonEl =\n",
              "          document.querySelector('#df-01cbfe10-55f8-499d-8131-165ec32c576b button.colab-df-convert');\n",
              "        buttonEl.style.display =\n",
              "          google.colab.kernel.accessAllowed ? 'block' : 'none';\n",
              "\n",
              "        async function convertToInteractive(key) {\n",
              "          const element = document.querySelector('#df-01cbfe10-55f8-499d-8131-165ec32c576b');\n",
              "          const dataTable =\n",
              "            await google.colab.kernel.invokeFunction('convertToInteractive',\n",
              "                                                     [key], {});\n",
              "          if (!dataTable) return;\n",
              "\n",
              "          const docLinkHtml = 'Like what you see? Visit the ' +\n",
              "            '<a target=\"_blank\" href=https://colab.research.google.com/notebooks/data_table.ipynb>data table notebook</a>'\n",
              "            + ' to learn more about interactive tables.';\n",
              "          element.innerHTML = '';\n",
              "          dataTable['output_type'] = 'display_data';\n",
              "          await google.colab.output.renderOutput(dataTable, element);\n",
              "          const docLink = document.createElement('div');\n",
              "          docLink.innerHTML = docLinkHtml;\n",
              "          element.appendChild(docLink);\n",
              "        }\n",
              "      </script>\n",
              "    </div>\n",
              "  </div>\n",
              "  "
            ]
          },
          "metadata": {},
          "execution_count": 388
        }
      ]
    },
    {
      "cell_type": "markdown",
      "metadata": {
        "id": "g27FvyhMIJOT"
      },
      "source": [
        "# 5. Split into X_train, X_test, y_train, y_test.\n",
        "Use an 80/20 split, shuffle the data, and random state equal to YOUR STUDENT ID. Print the shape of X_train, X_test, y_train, y_test.\n",
        "\n",
        "Convert X_train, X_test, y_train and y_test into numpy arrays. Just overwrite the variables with the numpy arrays like we did in class"
      ]
    },
    {
      "cell_type": "code",
      "execution_count": null,
      "metadata": {
        "colab": {
          "base_uri": "https://localhost:8080/"
        },
        "id": "oUXTHmx0H1fI",
        "outputId": "baddd3d1-6b45-4c9d-b009-462a3dac2d25"
      },
      "outputs": [
        {
          "output_type": "stream",
          "name": "stdout",
          "text": [
            "(228, 5) (57, 5) (228,) (57,)\n"
          ]
        }
      ],
      "source": [
        "# splitting the dataset into test-train 80-20\n",
        "\n",
        "from sklearn.model_selection import train_test_split\n",
        "\n",
        "X_train, X_test, y_train, y_test = train_test_split(X, Y, test_size=0.20, random_state = 2994408, shuffle = True )\n",
        "print(X_train.shape, X_test.shape, y_train.shape, y_test.shape)\n"
      ]
    },
    {
      "cell_type": "markdown",
      "metadata": {
        "id": "xOYA2feHIN0S"
      },
      "source": [
        "# 6. Use fit_transform() from MinMaxScaler on X_train. Use transform() to apply the MinMaxScaler to X_test.\n"
      ]
    },
    {
      "cell_type": "code",
      "execution_count": null,
      "metadata": {
        "colab": {
          "base_uri": "https://localhost:8080/"
        },
        "id": "YcwvuTKInp5T",
        "outputId": "5caa5f20-3376-4e1b-e6bf-99487abc2efa"
      },
      "outputs": [
        {
          "output_type": "stream",
          "name": "stdout",
          "text": [
            "<class 'pandas.core.frame.DataFrame'>\n",
            "Int64Index: 228 entries, 154 to 95\n",
            "Data columns (total 5 columns):\n",
            " #   Column               Non-Null Count  Dtype\n",
            "---  ------               --------------  -----\n",
            " 0   City                 228 non-null    uint8\n",
            " 1   Other                228 non-null    uint8\n",
            " 2   Town                 228 non-null    uint8\n",
            " 3   Population           228 non-null    int64\n",
            " 4   Number ofhouseholds  228 non-null    int64\n",
            "dtypes: int64(2), uint8(3)\n",
            "memory usage: 6.0 KB\n"
          ]
        }
      ],
      "source": [
        "cols = X_train.columns\n",
        "X_train.info()"
      ]
    },
    {
      "cell_type": "code",
      "execution_count": null,
      "metadata": {
        "id": "WFrzMo2Kn1e8"
      },
      "outputs": [],
      "source": [
        "# Applying scaler transformation\n",
        "from sklearn.preprocessing import MinMaxScaler\n",
        "\n",
        "scaler = MinMaxScaler()\n",
        "X_train = scaler.fit_transform(X_train)\n",
        "X_test = scaler.transform(X_test)"
      ]
    },
    {
      "cell_type": "code",
      "source": [
        "pd.DataFrame(X_test).describe()"
      ],
      "metadata": {
        "colab": {
          "base_uri": "https://localhost:8080/",
          "height": 300
        },
        "id": "0dXM8hXYI0gG",
        "outputId": "27aacba1-1c8b-461d-c11d-aef25d62c617"
      },
      "execution_count": null,
      "outputs": [
        {
          "output_type": "execute_result",
          "data": {
            "text/plain": [
              "               0     1          2          3          4\n",
              "count  57.000000  57.0  57.000000  57.000000  57.000000\n",
              "mean    0.140351   0.0   0.859649   0.180622   0.183636\n",
              "std     0.350438   0.0   0.350438   0.187995   0.188104\n",
              "min     0.000000   0.0   0.000000  -0.000454  -0.000075\n",
              "25%     0.000000   0.0   1.000000   0.054543   0.045828\n",
              "50%     0.000000   0.0   1.000000   0.124224   0.116222\n",
              "75%     0.000000   0.0   1.000000   0.266334   0.227353\n",
              "max     1.000000   0.0   1.000000   0.830771   0.781465"
            ],
            "text/html": [
              "\n",
              "  <div id=\"df-0b74070b-5b81-4fbe-a646-fa135c101dab\">\n",
              "    <div class=\"colab-df-container\">\n",
              "      <div>\n",
              "<style scoped>\n",
              "    .dataframe tbody tr th:only-of-type {\n",
              "        vertical-align: middle;\n",
              "    }\n",
              "\n",
              "    .dataframe tbody tr th {\n",
              "        vertical-align: top;\n",
              "    }\n",
              "\n",
              "    .dataframe thead th {\n",
              "        text-align: right;\n",
              "    }\n",
              "</style>\n",
              "<table border=\"1\" class=\"dataframe\">\n",
              "  <thead>\n",
              "    <tr style=\"text-align: right;\">\n",
              "      <th></th>\n",
              "      <th>0</th>\n",
              "      <th>1</th>\n",
              "      <th>2</th>\n",
              "      <th>3</th>\n",
              "      <th>4</th>\n",
              "    </tr>\n",
              "  </thead>\n",
              "  <tbody>\n",
              "    <tr>\n",
              "      <th>count</th>\n",
              "      <td>57.000000</td>\n",
              "      <td>57.0</td>\n",
              "      <td>57.000000</td>\n",
              "      <td>57.000000</td>\n",
              "      <td>57.000000</td>\n",
              "    </tr>\n",
              "    <tr>\n",
              "      <th>mean</th>\n",
              "      <td>0.140351</td>\n",
              "      <td>0.0</td>\n",
              "      <td>0.859649</td>\n",
              "      <td>0.180622</td>\n",
              "      <td>0.183636</td>\n",
              "    </tr>\n",
              "    <tr>\n",
              "      <th>std</th>\n",
              "      <td>0.350438</td>\n",
              "      <td>0.0</td>\n",
              "      <td>0.350438</td>\n",
              "      <td>0.187995</td>\n",
              "      <td>0.188104</td>\n",
              "    </tr>\n",
              "    <tr>\n",
              "      <th>min</th>\n",
              "      <td>0.000000</td>\n",
              "      <td>0.0</td>\n",
              "      <td>0.000000</td>\n",
              "      <td>-0.000454</td>\n",
              "      <td>-0.000075</td>\n",
              "    </tr>\n",
              "    <tr>\n",
              "      <th>25%</th>\n",
              "      <td>0.000000</td>\n",
              "      <td>0.0</td>\n",
              "      <td>1.000000</td>\n",
              "      <td>0.054543</td>\n",
              "      <td>0.045828</td>\n",
              "    </tr>\n",
              "    <tr>\n",
              "      <th>50%</th>\n",
              "      <td>0.000000</td>\n",
              "      <td>0.0</td>\n",
              "      <td>1.000000</td>\n",
              "      <td>0.124224</td>\n",
              "      <td>0.116222</td>\n",
              "    </tr>\n",
              "    <tr>\n",
              "      <th>75%</th>\n",
              "      <td>0.000000</td>\n",
              "      <td>0.0</td>\n",
              "      <td>1.000000</td>\n",
              "      <td>0.266334</td>\n",
              "      <td>0.227353</td>\n",
              "    </tr>\n",
              "    <tr>\n",
              "      <th>max</th>\n",
              "      <td>1.000000</td>\n",
              "      <td>0.0</td>\n",
              "      <td>1.000000</td>\n",
              "      <td>0.830771</td>\n",
              "      <td>0.781465</td>\n",
              "    </tr>\n",
              "  </tbody>\n",
              "</table>\n",
              "</div>\n",
              "      <button class=\"colab-df-convert\" onclick=\"convertToInteractive('df-0b74070b-5b81-4fbe-a646-fa135c101dab')\"\n",
              "              title=\"Convert this dataframe to an interactive table.\"\n",
              "              style=\"display:none;\">\n",
              "        \n",
              "  <svg xmlns=\"http://www.w3.org/2000/svg\" height=\"24px\"viewBox=\"0 0 24 24\"\n",
              "       width=\"24px\">\n",
              "    <path d=\"M0 0h24v24H0V0z\" fill=\"none\"/>\n",
              "    <path d=\"M18.56 5.44l.94 2.06.94-2.06 2.06-.94-2.06-.94-.94-2.06-.94 2.06-2.06.94zm-11 1L8.5 8.5l.94-2.06 2.06-.94-2.06-.94L8.5 2.5l-.94 2.06-2.06.94zm10 10l.94 2.06.94-2.06 2.06-.94-2.06-.94-.94-2.06-.94 2.06-2.06.94z\"/><path d=\"M17.41 7.96l-1.37-1.37c-.4-.4-.92-.59-1.43-.59-.52 0-1.04.2-1.43.59L10.3 9.45l-7.72 7.72c-.78.78-.78 2.05 0 2.83L4 21.41c.39.39.9.59 1.41.59.51 0 1.02-.2 1.41-.59l7.78-7.78 2.81-2.81c.8-.78.8-2.07 0-2.86zM5.41 20L4 18.59l7.72-7.72 1.47 1.35L5.41 20z\"/>\n",
              "  </svg>\n",
              "      </button>\n",
              "      \n",
              "  <style>\n",
              "    .colab-df-container {\n",
              "      display:flex;\n",
              "      flex-wrap:wrap;\n",
              "      gap: 12px;\n",
              "    }\n",
              "\n",
              "    .colab-df-convert {\n",
              "      background-color: #E8F0FE;\n",
              "      border: none;\n",
              "      border-radius: 50%;\n",
              "      cursor: pointer;\n",
              "      display: none;\n",
              "      fill: #1967D2;\n",
              "      height: 32px;\n",
              "      padding: 0 0 0 0;\n",
              "      width: 32px;\n",
              "    }\n",
              "\n",
              "    .colab-df-convert:hover {\n",
              "      background-color: #E2EBFA;\n",
              "      box-shadow: 0px 1px 2px rgba(60, 64, 67, 0.3), 0px 1px 3px 1px rgba(60, 64, 67, 0.15);\n",
              "      fill: #174EA6;\n",
              "    }\n",
              "\n",
              "    [theme=dark] .colab-df-convert {\n",
              "      background-color: #3B4455;\n",
              "      fill: #D2E3FC;\n",
              "    }\n",
              "\n",
              "    [theme=dark] .colab-df-convert:hover {\n",
              "      background-color: #434B5C;\n",
              "      box-shadow: 0px 1px 3px 1px rgba(0, 0, 0, 0.15);\n",
              "      filter: drop-shadow(0px 1px 2px rgba(0, 0, 0, 0.3));\n",
              "      fill: #FFFFFF;\n",
              "    }\n",
              "  </style>\n",
              "\n",
              "      <script>\n",
              "        const buttonEl =\n",
              "          document.querySelector('#df-0b74070b-5b81-4fbe-a646-fa135c101dab button.colab-df-convert');\n",
              "        buttonEl.style.display =\n",
              "          google.colab.kernel.accessAllowed ? 'block' : 'none';\n",
              "\n",
              "        async function convertToInteractive(key) {\n",
              "          const element = document.querySelector('#df-0b74070b-5b81-4fbe-a646-fa135c101dab');\n",
              "          const dataTable =\n",
              "            await google.colab.kernel.invokeFunction('convertToInteractive',\n",
              "                                                     [key], {});\n",
              "          if (!dataTable) return;\n",
              "\n",
              "          const docLinkHtml = 'Like what you see? Visit the ' +\n",
              "            '<a target=\"_blank\" href=https://colab.research.google.com/notebooks/data_table.ipynb>data table notebook</a>'\n",
              "            + ' to learn more about interactive tables.';\n",
              "          element.innerHTML = '';\n",
              "          dataTable['output_type'] = 'display_data';\n",
              "          await google.colab.output.renderOutput(dataTable, element);\n",
              "          const docLink = document.createElement('div');\n",
              "          docLink.innerHTML = docLinkHtml;\n",
              "          element.appendChild(docLink);\n",
              "        }\n",
              "      </script>\n",
              "    </div>\n",
              "  </div>\n",
              "  "
            ]
          },
          "metadata": {},
          "execution_count": 392
        }
      ]
    },
    {
      "cell_type": "markdown",
      "metadata": {
        "id": "5AjH_v4RITGY"
      },
      "source": [
        "# 7. Fit a random forest model on X_train. Call your model object `clf`. \n",
        "\n",
        "Then create two new variables, `train_preds` and `test_preds`, which are the predictions from your model. For example, you will use `train_preds = clf.predict(X_train)` for `X_train` . Calculate error metrics of MAE and R2 for train and test results."
      ]
    },
    {
      "cell_type": "code",
      "execution_count": null,
      "metadata": {
        "id": "bY5M6NqWLNTG"
      },
      "outputs": [],
      "source": [
        "# Number of trees in random forest\n",
        "n_estimators = [100,200,300,400,500]\n",
        "\n",
        "# Number of features to consider at every split\n",
        "max_features = ['auto','sqrt']\n",
        "\n",
        "# Maximum number of levels in tree\n",
        "max_depth = [2,3,4,5]\n",
        "\n",
        "# Minimum number of samples required to split a node\n",
        "min_samples_split = [1,2,3]\n",
        "\n",
        "# Minimum number of samples required at each leaf node\n",
        "min_samples_leaf = [1,2,3]\n",
        "\n",
        "# Method of selecting samples for training each tree\n",
        "bootstrap = [True, False]"
      ]
    },
    {
      "cell_type": "code",
      "execution_count": null,
      "metadata": {
        "colab": {
          "base_uri": "https://localhost:8080/"
        },
        "id": "VHAWJl53LwWx",
        "outputId": "3f7bbd57-c1e3-479b-8fba-b181be18d7aa"
      },
      "outputs": [
        {
          "output_type": "stream",
          "name": "stdout",
          "text": [
            "{'n_estimators': [100, 200, 300, 400, 500], 'max_features': ['auto', 'sqrt'], 'max_depth': [2, 3, 4, 5], 'min_samples_split': [1, 2, 3], 'min_samples_leaf': [1, 2, 3], 'bootstrap': [True, False]}\n"
          ]
        }
      ],
      "source": [
        "# Create the param grid\n",
        "param_grid = {'n_estimators': n_estimators,\n",
        "               'max_features': max_features,\n",
        "               'max_depth': max_depth,\n",
        "               'min_samples_split': min_samples_split,\n",
        "               'min_samples_leaf': min_samples_leaf,\n",
        "               'bootstrap': bootstrap}\n",
        "print(param_grid)"
      ]
    },
    {
      "cell_type": "code",
      "execution_count": null,
      "metadata": {
        "id": "nQniBXQgL5k1"
      },
      "outputs": [],
      "source": [
        "# Importing the library and assigning the classifier\n",
        "from sklearn.metrics import accuracy_score\n",
        "from sklearn.ensemble import RandomForestClassifier\n",
        "from sklearn.datasets import make_classification\n",
        "\n",
        "rf_Model = RandomForestClassifier()"
      ]
    },
    {
      "cell_type": "code",
      "execution_count": null,
      "metadata": {
        "id": "ZRNoJihNL7la"
      },
      "outputs": [],
      "source": [
        "# Assigning Grid Search for tuning\n",
        "from sklearn.model_selection import GridSearchCV\n",
        "rf_Grid = GridSearchCV(estimator = rf_Model, param_grid = param_grid, cv = 3, verbose=2, n_jobs = 4)"
      ]
    },
    {
      "cell_type": "code",
      "execution_count": null,
      "metadata": {
        "id": "3x-JcCb9MCew"
      },
      "outputs": [],
      "source": [
        "# Fitting the model\n",
        "# rf_Grid.fit(X_train, y_train)"
      ]
    },
    {
      "cell_type": "code",
      "execution_count": null,
      "metadata": {
        "id": "u6KlnGaXMH-K"
      },
      "outputs": [],
      "source": [
        "# Printing the best paramters\n",
        "#rf_Grid.best_params_"
      ]
    },
    {
      "cell_type": "code",
      "source": [
        "# Assigning the best estimator parameters to the model\n",
        "# clf = rf_Grid.best_estimator_\n"
      ],
      "metadata": {
        "id": "qZvSsl941cRa"
      },
      "execution_count": null,
      "outputs": []
    },
    {
      "cell_type": "code",
      "source": [
        "# Applying the best parameters using GridSearch to the random forest classifier\n",
        "\n",
        "clf = RandomForestClassifier(\n",
        "            n_estimators= 500,\n",
        "            max_depth = 6,\n",
        "            max_features= 'auto',\n",
        "            min_samples_leaf= 2,\n",
        "            min_samples_split= 3,\n",
        "            bootstrap=True\n",
        "\n",
        ")\n",
        "\n",
        "clf.fit(X_train, y_train)"
      ],
      "metadata": {
        "colab": {
          "base_uri": "https://localhost:8080/"
        },
        "id": "MpDimiJd69he",
        "outputId": "94e359ff-31af-44c1-8463-4ea293baa657"
      },
      "execution_count": null,
      "outputs": [
        {
          "output_type": "execute_result",
          "data": {
            "text/plain": [
              "RandomForestClassifier(max_depth=6, min_samples_leaf=2, min_samples_split=3,\n",
              "                       n_estimators=500)"
            ]
          },
          "metadata": {},
          "execution_count": 400
        }
      ]
    },
    {
      "cell_type": "code",
      "execution_count": null,
      "metadata": {
        "id": "fw0Ac5B2Y9Ah"
      },
      "outputs": [],
      "source": [
        "# Assigning the predictors to variables\n",
        "train_preds= clf.predict(X_train)\n",
        "test_preds = clf.predict(X_test)"
      ]
    },
    {
      "cell_type": "code",
      "execution_count": null,
      "metadata": {
        "colab": {
          "base_uri": "https://localhost:8080/"
        },
        "id": "SuWSIowb7nQd",
        "outputId": "e76df7f6-786e-45f5-d019-9f75fa15bea3"
      },
      "outputs": [
        {
          "output_type": "stream",
          "name": "stdout",
          "text": [
            "For Training Dataset \n",
            "The RMSE is:  2281.4332089373347 \n",
            "The MAE is :  338.28508771929825 \n",
            "The R Squared value is :  0.9582208710350838\n"
          ]
        }
      ],
      "source": [
        "# Evaluating performance metrix for Training dataset\n",
        "\n",
        "from sklearn.metrics import mean_squared_error, mean_absolute_error\n",
        "import math\n",
        "from sklearn.metrics import r2_score\n",
        "\n",
        "MSE_TestData = mean_squared_error(y_train,train_preds)\n",
        "RMSE_TestData = math.sqrt(MSE_TestData)\n",
        "MAE_TestData = mean_absolute_error(y_train,train_preds)\n",
        "R_Square_TestData = r2_score(y_train,train_preds)\n",
        "\n",
        "print(\"For Training Dataset \\nThe RMSE is: \", RMSE_TestData, \"\\nThe MAE is : \", MAE_TestData, \"\\nThe R Squared value is : \", R_Square_TestData)"
      ]
    },
    {
      "cell_type": "code",
      "execution_count": null,
      "metadata": {
        "colab": {
          "base_uri": "https://localhost:8080/"
        },
        "id": "A4I5TW3dIwYS",
        "outputId": "232a70d9-83e7-4c00-9528-e607ddb97061"
      },
      "outputs": [
        {
          "output_type": "stream",
          "name": "stdout",
          "text": [
            "For Test Dataset \n",
            "The RMSE is:  10546.614554510064 \n",
            "The MAE is :  7005.824561403509 \n",
            "The R Squared value is :  -0.303055479164573\n"
          ]
        }
      ],
      "source": [
        "# Evaluating performance metrix for Test dataset\n",
        "\n",
        "MSE_TestData = mean_squared_error(y_test, test_preds)\n",
        "RMSE_TestData = math.sqrt(MSE_TestData)\n",
        "MAE_TestData = mean_absolute_error(y_test, test_preds)\n",
        "R_Square_TestData = r2_score(y_test, test_preds)\n",
        "\n",
        "print(\"For Test Dataset \\nThe RMSE is: \", RMSE_TestData, \"\\nThe MAE is : \", MAE_TestData, \"\\nThe R Squared value is : \", R_Square_TestData)"
      ]
    },
    {
      "cell_type": "markdown",
      "metadata": {
        "id": "vo-Foyn9IgTy"
      },
      "source": [
        "# 8. Make two scatterplots of actual vs. predicted. One for train results, one for test results. \n",
        "With nicely labeled title and axis (like we did in class)."
      ]
    },
    {
      "cell_type": "code",
      "source": [
        "plt.subplots(figsize=(14, 6))\n",
        "\n",
        "plt.subplot(1, 2, 1)\n",
        "plt.plot(y_train, '*')\n",
        "plt.plot(train_preds, 'o')\n",
        "plt.xlabel(\"Actual (*)\")\n",
        "plt.ylabel(\"Predicted (o)\")\n",
        "plt.title(\"Training Data\")\n",
        "\n",
        "plt.subplot(1, 2, 2)\n",
        "\n",
        "plt.plot(y_test, '*')\n",
        "plt.plot(test_preds, 'o')\n",
        "plt.xlabel(\"Actual (*)\")\n",
        "plt.ylabel(\"Predicted (o)\")\n",
        "\n",
        "plt.title(\"Test Data\")\n",
        "\n",
        "plt.legend(loc='upper right')\n",
        "plt.tight_layout(5)\n",
        "plt.show()"
      ],
      "metadata": {
        "colab": {
          "base_uri": "https://localhost:8080/",
          "height": 381
        },
        "id": "B1vmUw9PZJ2c",
        "outputId": "3171165f-42a4-42c9-d115-9517c2da6149"
      },
      "execution_count": null,
      "outputs": [
        {
          "output_type": "stream",
          "name": "stderr",
          "text": [
            "WARNING:matplotlib.legend:No handles with labels found to put in legend.\n"
          ]
        },
        {
          "output_type": "display_data",
          "data": {
            "text/plain": [
              "<Figure size 1008x432 with 2 Axes>"
            ],
            "image/png": "[encoded data removed]"
          },
          "metadata": {}
        }
      ]
    },
    {
      "cell_type": "code",
      "source": [],
      "metadata": {
        "id": "2_ouzcgYdbot"
      },
      "execution_count": null,
      "outputs": []
    },
    {
      "cell_type": "markdown",
      "source": [
        "## Predictions using the current Y ~ X are not well because the error is very high.\n",
        "\n",
        "Adding another variable to improve the accuracy of the model."
      ],
      "metadata": {
        "id": "kQ1JGRxQ5mhi"
      }
    },
    {
      "cell_type": "code",
      "source": [
        "df1 = pd.get_dummies(df['Type'])\n",
        "df2 = df[['Population','Number ofhouseholds','Medianhouseholdincome','Medianfamilyincome']]\n",
        "X = [df1,df2]\n",
        "X = pd.concat(X, axis = 1)\n",
        "X.head()"
      ],
      "metadata": {
        "colab": {
          "base_uri": "https://localhost:8080/",
          "height": 206
        },
        "id": "nCcfA25ganl_",
        "outputId": "1556689d-98cb-4b86-a8fa-08123c102d69"
      },
      "execution_count": null,
      "outputs": [
        {
          "output_type": "execute_result",
          "data": {
            "text/plain": [
              "    City  Other  Town  Population  Number ofhouseholds  Medianhouseholdincome  \\\n",
              "6      0      0     1       17669                15544                 159167   \n",
              "7      0      0     1       11386                 6413                 141849   \n",
              "8      0      0     1        5224                 1876                 115650   \n",
              "9      0      0     1       28747                25084                 125833   \n",
              "10     0      0     1       18317                15084                 121036   \n",
              "\n",
              "    Medianfamilyincome  \n",
              "6               186518  \n",
              "7               163012  \n",
              "8               145409  \n",
              "9               141563  \n",
              "10              204033  "
            ],
            "text/html": [
              "\n",
              "  <div id=\"df-55c0f40e-ab9f-4f59-bad8-77c128b6745d\">\n",
              "    <div class=\"colab-df-container\">\n",
              "      <div>\n",
              "<style scoped>\n",
              "    .dataframe tbody tr th:only-of-type {\n",
              "        vertical-align: middle;\n",
              "    }\n",
              "\n",
              "    .dataframe tbody tr th {\n",
              "        vertical-align: top;\n",
              "    }\n",
              "\n",
              "    .dataframe thead th {\n",
              "        text-align: right;\n",
              "    }\n",
              "</style>\n",
              "<table border=\"1\" class=\"dataframe\">\n",
              "  <thead>\n",
              "    <tr style=\"text-align: right;\">\n",
              "      <th></th>\n",
              "      <th>City</th>\n",
              "      <th>Other</th>\n",
              "      <th>Town</th>\n",
              "      <th>Population</th>\n",
              "      <th>Number ofhouseholds</th>\n",
              "      <th>Medianhouseholdincome</th>\n",
              "      <th>Medianfamilyincome</th>\n",
              "    </tr>\n",
              "  </thead>\n",
              "  <tbody>\n",
              "    <tr>\n",
              "      <th>6</th>\n",
              "      <td>0</td>\n",
              "      <td>0</td>\n",
              "      <td>1</td>\n",
              "      <td>17669</td>\n",
              "      <td>15544</td>\n",
              "      <td>159167</td>\n",
              "      <td>186518</td>\n",
              "    </tr>\n",
              "    <tr>\n",
              "      <th>7</th>\n",
              "      <td>0</td>\n",
              "      <td>0</td>\n",
              "      <td>1</td>\n",
              "      <td>11386</td>\n",
              "      <td>6413</td>\n",
              "      <td>141849</td>\n",
              "      <td>163012</td>\n",
              "    </tr>\n",
              "    <tr>\n",
              "      <th>8</th>\n",
              "      <td>0</td>\n",
              "      <td>0</td>\n",
              "      <td>1</td>\n",
              "      <td>5224</td>\n",
              "      <td>1876</td>\n",
              "      <td>115650</td>\n",
              "      <td>145409</td>\n",
              "    </tr>\n",
              "    <tr>\n",
              "      <th>9</th>\n",
              "      <td>0</td>\n",
              "      <td>0</td>\n",
              "      <td>1</td>\n",
              "      <td>28747</td>\n",
              "      <td>25084</td>\n",
              "      <td>125833</td>\n",
              "      <td>141563</td>\n",
              "    </tr>\n",
              "    <tr>\n",
              "      <th>10</th>\n",
              "      <td>0</td>\n",
              "      <td>0</td>\n",
              "      <td>1</td>\n",
              "      <td>18317</td>\n",
              "      <td>15084</td>\n",
              "      <td>121036</td>\n",
              "      <td>204033</td>\n",
              "    </tr>\n",
              "  </tbody>\n",
              "</table>\n",
              "</div>\n",
              "      <button class=\"colab-df-convert\" onclick=\"convertToInteractive('df-55c0f40e-ab9f-4f59-bad8-77c128b6745d')\"\n",
              "              title=\"Convert this dataframe to an interactive table.\"\n",
              "              style=\"display:none;\">\n",
              "        \n",
              "  <svg xmlns=\"http://www.w3.org/2000/svg\" height=\"24px\"viewBox=\"0 0 24 24\"\n",
              "       width=\"24px\">\n",
              "    <path d=\"M0 0h24v24H0V0z\" fill=\"none\"/>\n",
              "    <path d=\"M18.56 5.44l.94 2.06.94-2.06 2.06-.94-2.06-.94-.94-2.06-.94 2.06-2.06.94zm-11 1L8.5 8.5l.94-2.06 2.06-.94-2.06-.94L8.5 2.5l-.94 2.06-2.06.94zm10 10l.94 2.06.94-2.06 2.06-.94-2.06-.94-.94-2.06-.94 2.06-2.06.94z\"/><path d=\"M17.41 7.96l-1.37-1.37c-.4-.4-.92-.59-1.43-.59-.52 0-1.04.2-1.43.59L10.3 9.45l-7.72 7.72c-.78.78-.78 2.05 0 2.83L4 21.41c.39.39.9.59 1.41.59.51 0 1.02-.2 1.41-.59l7.78-7.78 2.81-2.81c.8-.78.8-2.07 0-2.86zM5.41 20L4 18.59l7.72-7.72 1.47 1.35L5.41 20z\"/>\n",
              "  </svg>\n",
              "      </button>\n",
              "      \n",
              "  <style>\n",
              "    .colab-df-container {\n",
              "      display:flex;\n",
              "      flex-wrap:wrap;\n",
              "      gap: 12px;\n",
              "    }\n",
              "\n",
              "    .colab-df-convert {\n",
              "      background-color: #E8F0FE;\n",
              "      border: none;\n",
              "      border-radius: 50%;\n",
              "      cursor: pointer;\n",
              "      display: none;\n",
              "      fill: #1967D2;\n",
              "      height: 32px;\n",
              "      padding: 0 0 0 0;\n",
              "      width: 32px;\n",
              "    }\n",
              "\n",
              "    .colab-df-convert:hover {\n",
              "      background-color: #E2EBFA;\n",
              "      box-shadow: 0px 1px 2px rgba(60, 64, 67, 0.3), 0px 1px 3px 1px rgba(60, 64, 67, 0.15);\n",
              "      fill: #174EA6;\n",
              "    }\n",
              "\n",
              "    [theme=dark] .colab-df-convert {\n",
              "      background-color: #3B4455;\n",
              "      fill: #D2E3FC;\n",
              "    }\n",
              "\n",
              "    [theme=dark] .colab-df-convert:hover {\n",
              "      background-color: #434B5C;\n",
              "      box-shadow: 0px 1px 3px 1px rgba(0, 0, 0, 0.15);\n",
              "      filter: drop-shadow(0px 1px 2px rgba(0, 0, 0, 0.3));\n",
              "      fill: #FFFFFF;\n",
              "    }\n",
              "  </style>\n",
              "\n",
              "      <script>\n",
              "        const buttonEl =\n",
              "          document.querySelector('#df-55c0f40e-ab9f-4f59-bad8-77c128b6745d button.colab-df-convert');\n",
              "        buttonEl.style.display =\n",
              "          google.colab.kernel.accessAllowed ? 'block' : 'none';\n",
              "\n",
              "        async function convertToInteractive(key) {\n",
              "          const element = document.querySelector('#df-55c0f40e-ab9f-4f59-bad8-77c128b6745d');\n",
              "          const dataTable =\n",
              "            await google.colab.kernel.invokeFunction('convertToInteractive',\n",
              "                                                     [key], {});\n",
              "          if (!dataTable) return;\n",
              "\n",
              "          const docLinkHtml = 'Like what you see? Visit the ' +\n",
              "            '<a target=\"_blank\" href=https://colab.research.google.com/notebooks/data_table.ipynb>data table notebook</a>'\n",
              "            + ' to learn more about interactive tables.';\n",
              "          element.innerHTML = '';\n",
              "          dataTable['output_type'] = 'display_data';\n",
              "          await google.colab.output.renderOutput(dataTable, element);\n",
              "          const docLink = document.createElement('div');\n",
              "          docLink.innerHTML = docLinkHtml;\n",
              "          element.appendChild(docLink);\n",
              "        }\n",
              "      </script>\n",
              "    </div>\n",
              "  </div>\n",
              "  "
            ]
          },
          "metadata": {},
          "execution_count": 405
        }
      ]
    },
    {
      "cell_type": "code",
      "source": [
        "# splitting the dataset into test-train 80-20\n",
        "X_train, X_test, y_train, y_test = train_test_split(X, Y, test_size=0.20, random_state = 2994408, shuffle = True )\n",
        "\n",
        "# Scaling the model using fit transform method\n",
        "scaler = MinMaxScaler()\n",
        "X_train = scaler.fit_transform(X_train)\n",
        "X_test = scaler.transform(X_test)"
      ],
      "metadata": {
        "id": "eK83hdP08v7W"
      },
      "execution_count": null,
      "outputs": []
    },
    {
      "cell_type": "code",
      "source": [
        "# Performing the grid search / Hyperparmater tuning to get the best parameters\n",
        "# rf_Grid = GridSearchCV(estimator = rf_Model, param_grid = param_grid, cv = 3, verbose=2, n_jobs = -1)\n",
        "\n",
        "grid_values = {     \n",
        "      'n_estimators' : [100,200,300,400,500],\n",
        "      'max_features' : ['auto', 'sqrt'],\n",
        "      'max_depth' : [2,3,4,5,6,7,8],\n",
        "      'min_samples_split' : [2,3,4,5,6,7,8,9,10],\n",
        "      'min_samples_leaf' : [2,3,4]\n",
        "}\n",
        "\n",
        "# rf = RandomForestClassifier()\n",
        "# grid_search = GridSearchCV(rf, grid_values, cv=3, return_train_score=True)\n",
        "# grid_search.fit(X_train, y_train)"
      ],
      "metadata": {
        "id": "od4sJiCk9Clk"
      },
      "execution_count": null,
      "outputs": []
    },
    {
      "cell_type": "code",
      "source": [
        "# clf = grid_search.best_estimator_\n",
        "clf = RandomForestClassifier(\n",
        "                  n_estimators = 500,\n",
        "                  max_depth = 6,\n",
        "                  max_features = 'sqrt',\n",
        "                  min_samples_leaf = 3,\n",
        "                  min_samples_split= 4,\n",
        "                  bootstrap = False\n",
        ")\n",
        "\n",
        "clf.fit(X_train, y_train)\n",
        "\n",
        "train_preds = clf.predict(X_train)\n",
        "test_preds = clf.predict(X_test)"
      ],
      "metadata": {
        "id": "fqClCJwM9hmO"
      },
      "execution_count": null,
      "outputs": []
    },
    {
      "cell_type": "code",
      "source": [
        "# Evaluating performance metrix for Training dataset\n",
        "MSE_TestData = mean_squared_error(y_train,train_preds)\n",
        "RMSE_TestData = math.sqrt(MSE_TestData)\n",
        "MAE_TestData = mean_absolute_error(y_train,train_preds)\n",
        "R_Square_TestData = r2_score(y_train,train_preds)\n",
        "\n",
        "print(\"For Training Dataset \\nThe RMSE is: \", RMSE_TestData, \"\\nThe MAE is : \", MAE_TestData, \"\\nThe R Squared value is : \", R_Square_TestData)"
      ],
      "metadata": {
        "colab": {
          "base_uri": "https://localhost:8080/"
        },
        "id": "NZfDl0NS-OQX",
        "outputId": "3c036c24-d795-49a5-e93c-8c5ceb1c3621"
      },
      "execution_count": null,
      "outputs": [
        {
          "output_type": "stream",
          "name": "stdout",
          "text": [
            "For Training Dataset \n",
            "The RMSE is:  2605.5821966181247 \n",
            "The MAE is :  739.1447368421053 \n",
            "The R Squared value is :  0.9455054061993082\n"
          ]
        }
      ]
    },
    {
      "cell_type": "code",
      "source": [
        "# Evaluating performance metrix for Test dataset\n",
        "MSE_TestData = mean_squared_error(y_test, test_preds)\n",
        "RMSE_TestData = math.sqrt(MSE_TestData)\n",
        "MAE_TestData = mean_absolute_error(y_test, test_preds)\n",
        "R_Square_TestData = r2_score(y_test, test_preds)\n",
        "\n",
        "print(\"For Test Dataset \\nThe RMSE is: \", RMSE_TestData, \"\\nThe MAE is : \", MAE_TestData, \"\\nThe R Squared value is : \", R_Square_TestData)"
      ],
      "metadata": {
        "colab": {
          "base_uri": "https://localhost:8080/"
        },
        "id": "tChyS_DV-SFU",
        "outputId": "117b097e-cf06-4ec7-8d8d-2a14de7c0646"
      },
      "execution_count": null,
      "outputs": [
        {
          "output_type": "stream",
          "name": "stdout",
          "text": [
            "For Test Dataset \n",
            "The RMSE is:  4779.632709958503 \n",
            "The MAE is :  3767.0526315789475 \n",
            "The R Squared value is :  0.7323755378297641\n"
          ]
        }
      ]
    },
    {
      "cell_type": "code",
      "source": [
        "plt.subplots(figsize=(14, 6))\n",
        "\n",
        "plt.subplot(1, 2, 1)\n",
        "plt.plot(y_train, '*')\n",
        "plt.plot(train_preds, 'o')\n",
        "plt.xlabel(\"Actual (*)\")\n",
        "plt.ylabel(\"Predicted (o)\")\n",
        "plt.title(\"Training Data\")\n",
        "\n",
        "plt.subplot(1, 2, 2)\n",
        "\n",
        "plt.plot(y_test, '*')\n",
        "plt.plot(test_preds, 'o')\n",
        "plt.xlabel(\"Actual (*)\")\n",
        "plt.ylabel(\"Predicted (o)\")\n",
        "\n",
        "plt.title(\"Test Data\")\n",
        "\n",
        "plt.legend(loc='upper right')\n",
        "plt.tight_layout(5)\n",
        "plt.show()"
      ],
      "metadata": {
        "colab": {
          "base_uri": "https://localhost:8080/",
          "height": 381
        },
        "id": "6TSErk6__jue",
        "outputId": "5cfde8f0-f582-4bea-c4cc-99d09c9d51bc"
      },
      "execution_count": null,
      "outputs": [
        {
          "output_type": "stream",
          "name": "stderr",
          "text": [
            "WARNING:matplotlib.legend:No handles with labels found to put in legend.\n"
          ]
        },
        {
          "output_type": "display_data",
          "data": {
            "text/plain": [
              "<Figure size 1008x432 with 2 Axes>"
            ],
            "image/png": "[encoded data removed]"
          },
          "metadata": {}
        }
      ]
    },
    {
      "cell_type": "markdown",
      "metadata": {
        "id": "zJSEY34KJ6Rz"
      },
      "source": [
        "# 9. Apply and evaluate your fitted model to ALL town-level data in Connecticut.\n",
        "\n",
        "This will require you to prep this new dataset the same way as you did for Massachussetts. Luckily, you should be able to copy/paste most code! You can treat this as another holdout partition - use all rows but only the subset of columns that were used in your model. \n",
        "\n",
        "Calculate error metrics and make one scatterplot of actual vs. predicted results for this new holdout sample."
      ]
    },
    {
      "cell_type": "markdown",
      "metadata": {
        "id": "usHFJtDaK6Vy"
      },
      "source": [
        "![CT econ data](https://upload.wikimedia.org/wikipedia/commons/6/6d/Connecticut_Towns_by_Median_Household_Income.png)\n",
        "\n",
        "Figure: Map of municipalities by median household income (ACS 2015-2019). Areas with higher income are shaded more blue, areas with lower income are shaded more red.\n",
        "\n",
        "*https://en.wikipedia.org/wiki/List_of_Connecticut_locations_by_per_capita_income"
      ]
    },
    {
      "cell_type": "code",
      "execution_count": null,
      "metadata": {
        "colab": {
          "base_uri": "https://localhost:8080/",
          "height": 206
        },
        "id": "6kMNM8DDKC-B",
        "outputId": "7cb17f15-a386-4eba-8722-f84dfa5020d9"
      },
      "outputs": [
        {
          "output_type": "execute_result",
          "data": {
            "text/plain": [
              "   Rank        Town Unnamed: 2     County Per capitaincome  \\\n",
              "0   1.0  New Canaan       Town  Fairfield         $105,846   \n",
              "1   2.0      Darien       Town  Fairfield         $105,846   \n",
              "2   3.0   Greenwich       Town  Fairfield          $90,087   \n",
              "3   4.0      Weston       Town  Fairfield          $92,794   \n",
              "4   5.0    Westport       Town  Fairfield          $97,395   \n",
              "\n",
              "  Medianhouseholdincome Medianfamilyincome  Population  Number ofhouseholds  \n",
              "0              $174,611           $211,875       19738                 6857  \n",
              "1              $208,848           $343,456       20732                 6555  \n",
              "2              $128,153           $167,825       61171                22083  \n",
              "3              $219,868           $285,612       10179                 3379  \n",
              "4              $181,360           $237,353       26391                 9740  "
            ],
            "text/html": [
              "\n",
              "  <div id=\"df-32fda573-6633-4626-be81-97b3e96f1796\">\n",
              "    <div class=\"colab-df-container\">\n",
              "      <div>\n",
              "<style scoped>\n",
              "    .dataframe tbody tr th:only-of-type {\n",
              "        vertical-align: middle;\n",
              "    }\n",
              "\n",
              "    .dataframe tbody tr th {\n",
              "        vertical-align: top;\n",
              "    }\n",
              "\n",
              "    .dataframe thead th {\n",
              "        text-align: right;\n",
              "    }\n",
              "</style>\n",
              "<table border=\"1\" class=\"dataframe\">\n",
              "  <thead>\n",
              "    <tr style=\"text-align: right;\">\n",
              "      <th></th>\n",
              "      <th>Rank</th>\n",
              "      <th>Town</th>\n",
              "      <th>Unnamed: 2</th>\n",
              "      <th>County</th>\n",
              "      <th>Per capitaincome</th>\n",
              "      <th>Medianhouseholdincome</th>\n",
              "      <th>Medianfamilyincome</th>\n",
              "      <th>Population</th>\n",
              "      <th>Number ofhouseholds</th>\n",
              "    </tr>\n",
              "  </thead>\n",
              "  <tbody>\n",
              "    <tr>\n",
              "      <th>0</th>\n",
              "      <td>1.0</td>\n",
              "      <td>New Canaan</td>\n",
              "      <td>Town</td>\n",
              "      <td>Fairfield</td>\n",
              "      <td>$105,846</td>\n",
              "      <td>$174,611</td>\n",
              "      <td>$211,875</td>\n",
              "      <td>19738</td>\n",
              "      <td>6857</td>\n",
              "    </tr>\n",
              "    <tr>\n",
              "      <th>1</th>\n",
              "      <td>2.0</td>\n",
              "      <td>Darien</td>\n",
              "      <td>Town</td>\n",
              "      <td>Fairfield</td>\n",
              "      <td>$105,846</td>\n",
              "      <td>$208,848</td>\n",
              "      <td>$343,456</td>\n",
              "      <td>20732</td>\n",
              "      <td>6555</td>\n",
              "    </tr>\n",
              "    <tr>\n",
              "      <th>2</th>\n",
              "      <td>3.0</td>\n",
              "      <td>Greenwich</td>\n",
              "      <td>Town</td>\n",
              "      <td>Fairfield</td>\n",
              "      <td>$90,087</td>\n",
              "      <td>$128,153</td>\n",
              "      <td>$167,825</td>\n",
              "      <td>61171</td>\n",
              "      <td>22083</td>\n",
              "    </tr>\n",
              "    <tr>\n",
              "      <th>3</th>\n",
              "      <td>4.0</td>\n",
              "      <td>Weston</td>\n",
              "      <td>Town</td>\n",
              "      <td>Fairfield</td>\n",
              "      <td>$92,794</td>\n",
              "      <td>$219,868</td>\n",
              "      <td>$285,612</td>\n",
              "      <td>10179</td>\n",
              "      <td>3379</td>\n",
              "    </tr>\n",
              "    <tr>\n",
              "      <th>4</th>\n",
              "      <td>5.0</td>\n",
              "      <td>Westport</td>\n",
              "      <td>Town</td>\n",
              "      <td>Fairfield</td>\n",
              "      <td>$97,395</td>\n",
              "      <td>$181,360</td>\n",
              "      <td>$237,353</td>\n",
              "      <td>26391</td>\n",
              "      <td>9740</td>\n",
              "    </tr>\n",
              "  </tbody>\n",
              "</table>\n",
              "</div>\n",
              "      <button class=\"colab-df-convert\" onclick=\"convertToInteractive('df-32fda573-6633-4626-be81-97b3e96f1796')\"\n",
              "              title=\"Convert this dataframe to an interactive table.\"\n",
              "              style=\"display:none;\">\n",
              "        \n",
              "  <svg xmlns=\"http://www.w3.org/2000/svg\" height=\"24px\"viewBox=\"0 0 24 24\"\n",
              "       width=\"24px\">\n",
              "    <path d=\"M0 0h24v24H0V0z\" fill=\"none\"/>\n",
              "    <path d=\"M18.56 5.44l.94 2.06.94-2.06 2.06-.94-2.06-.94-.94-2.06-.94 2.06-2.06.94zm-11 1L8.5 8.5l.94-2.06 2.06-.94-2.06-.94L8.5 2.5l-.94 2.06-2.06.94zm10 10l.94 2.06.94-2.06 2.06-.94-2.06-.94-.94-2.06-.94 2.06-2.06.94z\"/><path d=\"M17.41 7.96l-1.37-1.37c-.4-.4-.92-.59-1.43-.59-.52 0-1.04.2-1.43.59L10.3 9.45l-7.72 7.72c-.78.78-.78 2.05 0 2.83L4 21.41c.39.39.9.59 1.41.59.51 0 1.02-.2 1.41-.59l7.78-7.78 2.81-2.81c.8-.78.8-2.07 0-2.86zM5.41 20L4 18.59l7.72-7.72 1.47 1.35L5.41 20z\"/>\n",
              "  </svg>\n",
              "      </button>\n",
              "      \n",
              "  <style>\n",
              "    .colab-df-container {\n",
              "      display:flex;\n",
              "      flex-wrap:wrap;\n",
              "      gap: 12px;\n",
              "    }\n",
              "\n",
              "    .colab-df-convert {\n",
              "      background-color: #E8F0FE;\n",
              "      border: none;\n",
              "      border-radius: 50%;\n",
              "      cursor: pointer;\n",
              "      display: none;\n",
              "      fill: #1967D2;\n",
              "      height: 32px;\n",
              "      padding: 0 0 0 0;\n",
              "      width: 32px;\n",
              "    }\n",
              "\n",
              "    .colab-df-convert:hover {\n",
              "      background-color: #E2EBFA;\n",
              "      box-shadow: 0px 1px 2px rgba(60, 64, 67, 0.3), 0px 1px 3px 1px rgba(60, 64, 67, 0.15);\n",
              "      fill: #174EA6;\n",
              "    }\n",
              "\n",
              "    [theme=dark] .colab-df-convert {\n",
              "      background-color: #3B4455;\n",
              "      fill: #D2E3FC;\n",
              "    }\n",
              "\n",
              "    [theme=dark] .colab-df-convert:hover {\n",
              "      background-color: #434B5C;\n",
              "      box-shadow: 0px 1px 3px 1px rgba(0, 0, 0, 0.15);\n",
              "      filter: drop-shadow(0px 1px 2px rgba(0, 0, 0, 0.3));\n",
              "      fill: #FFFFFF;\n",
              "    }\n",
              "  </style>\n",
              "\n",
              "      <script>\n",
              "        const buttonEl =\n",
              "          document.querySelector('#df-32fda573-6633-4626-be81-97b3e96f1796 button.colab-df-convert');\n",
              "        buttonEl.style.display =\n",
              "          google.colab.kernel.accessAllowed ? 'block' : 'none';\n",
              "\n",
              "        async function convertToInteractive(key) {\n",
              "          const element = document.querySelector('#df-32fda573-6633-4626-be81-97b3e96f1796');\n",
              "          const dataTable =\n",
              "            await google.colab.kernel.invokeFunction('convertToInteractive',\n",
              "                                                     [key], {});\n",
              "          if (!dataTable) return;\n",
              "\n",
              "          const docLinkHtml = 'Like what you see? Visit the ' +\n",
              "            '<a target=\"_blank\" href=https://colab.research.google.com/notebooks/data_table.ipynb>data table notebook</a>'\n",
              "            + ' to learn more about interactive tables.';\n",
              "          element.innerHTML = '';\n",
              "          dataTable['output_type'] = 'display_data';\n",
              "          await google.colab.output.renderOutput(dataTable, element);\n",
              "          const docLink = document.createElement('div');\n",
              "          docLink.innerHTML = docLinkHtml;\n",
              "          element.appendChild(docLink);\n",
              "        }\n",
              "      </script>\n",
              "    </div>\n",
              "  </div>\n",
              "  "
            ]
          },
          "metadata": {},
          "execution_count": 412
        }
      ],
      "source": [
        "ctData = pd.read_html('https://en.wikipedia.org/wiki/List_of_Connecticut_locations_by_per_capita_income')[2]\n",
        "ctData.head()"
      ]
    },
    {
      "cell_type": "code",
      "execution_count": null,
      "metadata": {
        "colab": {
          "base_uri": "https://localhost:8080/"
        },
        "id": "oE8sy6HYq_CS",
        "outputId": "e1598957-c06e-456c-eb74-ec50aa236280"
      },
      "outputs": [
        {
          "output_type": "stream",
          "name": "stderr",
          "text": [
            "/usr/local/lib/python3.7/dist-packages/ipykernel_launcher.py:3: FutureWarning: The default value of regex will change from True to False in a future version.\n",
            "  This is separate from the ipykernel package so we can avoid doing imports until\n",
            "/usr/local/lib/python3.7/dist-packages/ipykernel_launcher.py:4: FutureWarning: The default value of regex will change from True to False in a future version.\n",
            "  after removing the cwd from sys.path.\n",
            "/usr/local/lib/python3.7/dist-packages/ipykernel_launcher.py:5: FutureWarning: The default value of regex will change from True to False in a future version.\n",
            "  \"\"\"\n"
          ]
        },
        {
          "output_type": "execute_result",
          "data": {
            "text/plain": [
              "Town       147\n",
              "City        21\n",
              "Borough      9\n",
              "State        1\n",
              "Country      1\n",
              "Name: Unnamed: 2, dtype: int64"
            ]
          },
          "metadata": {},
          "execution_count": 413
        }
      ],
      "source": [
        "# Removing Special characters from the numeric columns\n",
        "\n",
        "ctData['Per capitaincome'] = ctData['Per capitaincome'].str.replace('\\W', '')\n",
        "ctData['Medianhouseholdincome'] = ctData['Medianhouseholdincome'].str.replace('\\W', '')\n",
        "ctData['Medianfamilyincome'] = ctData['Medianfamilyincome'].str.replace('\\W', '')\n",
        "ctData['Unnamed: 2'].value_counts()"
      ]
    },
    {
      "cell_type": "code",
      "execution_count": null,
      "metadata": {
        "colab": {
          "base_uri": "https://localhost:8080/"
        },
        "id": "NAFRGg_u7kM8",
        "outputId": "78f0eed8-9aa2-431b-e129-2276f138a1b5"
      },
      "outputs": [
        {
          "output_type": "execute_result",
          "data": {
            "text/plain": [
              "Town     147\n",
              "City      21\n",
              "Other     11\n",
              "Name: Unnamed: 2, dtype: int64"
            ]
          },
          "metadata": {},
          "execution_count": 414
        }
      ],
      "source": [
        "# Changing the Unnamed: 2 column values to other\n",
        "ctData['Unnamed: 2'] = ctData['Unnamed: 2'].replace(['Borough','State','Country'],'Other')\n",
        "ctData['Unnamed: 2'].value_counts()"
      ]
    },
    {
      "cell_type": "code",
      "source": [
        "# We need to change the datatypes for some columns from object to numeric\n",
        "ctData =ctData.astype({\"Medianhouseholdincome\": int, \"Per capitaincome\": int, \"Medianfamilyincome\": int })\n",
        "ctData.dtypes"
      ],
      "metadata": {
        "colab": {
          "base_uri": "https://localhost:8080/"
        },
        "id": "IacPYQeiDWsO",
        "outputId": "c01fe084-286d-47a1-f933-3513345dc1d5"
      },
      "execution_count": null,
      "outputs": [
        {
          "output_type": "execute_result",
          "data": {
            "text/plain": [
              "Rank                     float64\n",
              "Town                      object\n",
              "Unnamed: 2                object\n",
              "County                    object\n",
              "Per capitaincome           int64\n",
              "Medianhouseholdincome      int64\n",
              "Medianfamilyincome         int64\n",
              "Population                 int64\n",
              "Number ofhouseholds        int64\n",
              "dtype: object"
            ]
          },
          "metadata": {},
          "execution_count": 415
        }
      ]
    },
    {
      "cell_type": "code",
      "source": [
        "ctData1 = pd.get_dummies(ctData['Unnamed: 2'])\n",
        "\n",
        "ctData2 = ctData[['Population','Number ofhouseholds','Medianhouseholdincome','Medianfamilyincome']]\n",
        "X_ctData = [ctData1,ctData2]\n",
        "X_ctData = pd.concat(X_ctData, axis = 1)\n",
        "X_ctData.head()"
      ],
      "metadata": {
        "colab": {
          "base_uri": "https://localhost:8080/",
          "height": 206
        },
        "id": "pRfUu9ILADYc",
        "outputId": "32998c0a-cc95-4b6b-b471-2292857b6dd9"
      },
      "execution_count": null,
      "outputs": [
        {
          "output_type": "execute_result",
          "data": {
            "text/plain": [
              "   City  Other  Town  Population  Number ofhouseholds  Medianhouseholdincome  \\\n",
              "0     0      0     1       19738                 6857                 174611   \n",
              "1     0      0     1       20732                 6555                 208848   \n",
              "2     0      0     1       61171                22083                 128153   \n",
              "3     0      0     1       10179                 3379                 219868   \n",
              "4     0      0     1       26391                 9740                 181360   \n",
              "\n",
              "   Medianfamilyincome  \n",
              "0              211875  \n",
              "1              343456  \n",
              "2              167825  \n",
              "3              285612  \n",
              "4              237353  "
            ],
            "text/html": [
              "\n",
              "  <div id=\"df-93aa74c1-2bb3-46d0-9ba5-812ba6515c74\">\n",
              "    <div class=\"colab-df-container\">\n",
              "      <div>\n",
              "<style scoped>\n",
              "    .dataframe tbody tr th:only-of-type {\n",
              "        vertical-align: middle;\n",
              "    }\n",
              "\n",
              "    .dataframe tbody tr th {\n",
              "        vertical-align: top;\n",
              "    }\n",
              "\n",
              "    .dataframe thead th {\n",
              "        text-align: right;\n",
              "    }\n",
              "</style>\n",
              "<table border=\"1\" class=\"dataframe\">\n",
              "  <thead>\n",
              "    <tr style=\"text-align: right;\">\n",
              "      <th></th>\n",
              "      <th>City</th>\n",
              "      <th>Other</th>\n",
              "      <th>Town</th>\n",
              "      <th>Population</th>\n",
              "      <th>Number ofhouseholds</th>\n",
              "      <th>Medianhouseholdincome</th>\n",
              "      <th>Medianfamilyincome</th>\n",
              "    </tr>\n",
              "  </thead>\n",
              "  <tbody>\n",
              "    <tr>\n",
              "      <th>0</th>\n",
              "      <td>0</td>\n",
              "      <td>0</td>\n",
              "      <td>1</td>\n",
              "      <td>19738</td>\n",
              "      <td>6857</td>\n",
              "      <td>174611</td>\n",
              "      <td>211875</td>\n",
              "    </tr>\n",
              "    <tr>\n",
              "      <th>1</th>\n",
              "      <td>0</td>\n",
              "      <td>0</td>\n",
              "      <td>1</td>\n",
              "      <td>20732</td>\n",
              "      <td>6555</td>\n",
              "      <td>208848</td>\n",
              "      <td>343456</td>\n",
              "    </tr>\n",
              "    <tr>\n",
              "      <th>2</th>\n",
              "      <td>0</td>\n",
              "      <td>0</td>\n",
              "      <td>1</td>\n",
              "      <td>61171</td>\n",
              "      <td>22083</td>\n",
              "      <td>128153</td>\n",
              "      <td>167825</td>\n",
              "    </tr>\n",
              "    <tr>\n",
              "      <th>3</th>\n",
              "      <td>0</td>\n",
              "      <td>0</td>\n",
              "      <td>1</td>\n",
              "      <td>10179</td>\n",
              "      <td>3379</td>\n",
              "      <td>219868</td>\n",
              "      <td>285612</td>\n",
              "    </tr>\n",
              "    <tr>\n",
              "      <th>4</th>\n",
              "      <td>0</td>\n",
              "      <td>0</td>\n",
              "      <td>1</td>\n",
              "      <td>26391</td>\n",
              "      <td>9740</td>\n",
              "      <td>181360</td>\n",
              "      <td>237353</td>\n",
              "    </tr>\n",
              "  </tbody>\n",
              "</table>\n",
              "</div>\n",
              "      <button class=\"colab-df-convert\" onclick=\"convertToInteractive('df-93aa74c1-2bb3-46d0-9ba5-812ba6515c74')\"\n",
              "              title=\"Convert this dataframe to an interactive table.\"\n",
              "              style=\"display:none;\">\n",
              "        \n",
              "  <svg xmlns=\"http://www.w3.org/2000/svg\" height=\"24px\"viewBox=\"0 0 24 24\"\n",
              "       width=\"24px\">\n",
              "    <path d=\"M0 0h24v24H0V0z\" fill=\"none\"/>\n",
              "    <path d=\"M18.56 5.44l.94 2.06.94-2.06 2.06-.94-2.06-.94-.94-2.06-.94 2.06-2.06.94zm-11 1L8.5 8.5l.94-2.06 2.06-.94-2.06-.94L8.5 2.5l-.94 2.06-2.06.94zm10 10l.94 2.06.94-2.06 2.06-.94-2.06-.94-.94-2.06-.94 2.06-2.06.94z\"/><path d=\"M17.41 7.96l-1.37-1.37c-.4-.4-.92-.59-1.43-.59-.52 0-1.04.2-1.43.59L10.3 9.45l-7.72 7.72c-.78.78-.78 2.05 0 2.83L4 21.41c.39.39.9.59 1.41.59.51 0 1.02-.2 1.41-.59l7.78-7.78 2.81-2.81c.8-.78.8-2.07 0-2.86zM5.41 20L4 18.59l7.72-7.72 1.47 1.35L5.41 20z\"/>\n",
              "  </svg>\n",
              "      </button>\n",
              "      \n",
              "  <style>\n",
              "    .colab-df-container {\n",
              "      display:flex;\n",
              "      flex-wrap:wrap;\n",
              "      gap: 12px;\n",
              "    }\n",
              "\n",
              "    .colab-df-convert {\n",
              "      background-color: #E8F0FE;\n",
              "      border: none;\n",
              "      border-radius: 50%;\n",
              "      cursor: pointer;\n",
              "      display: none;\n",
              "      fill: #1967D2;\n",
              "      height: 32px;\n",
              "      padding: 0 0 0 0;\n",
              "      width: 32px;\n",
              "    }\n",
              "\n",
              "    .colab-df-convert:hover {\n",
              "      background-color: #E2EBFA;\n",
              "      box-shadow: 0px 1px 2px rgba(60, 64, 67, 0.3), 0px 1px 3px 1px rgba(60, 64, 67, 0.15);\n",
              "      fill: #174EA6;\n",
              "    }\n",
              "\n",
              "    [theme=dark] .colab-df-convert {\n",
              "      background-color: #3B4455;\n",
              "      fill: #D2E3FC;\n",
              "    }\n",
              "\n",
              "    [theme=dark] .colab-df-convert:hover {\n",
              "      background-color: #434B5C;\n",
              "      box-shadow: 0px 1px 3px 1px rgba(0, 0, 0, 0.15);\n",
              "      filter: drop-shadow(0px 1px 2px rgba(0, 0, 0, 0.3));\n",
              "      fill: #FFFFFF;\n",
              "    }\n",
              "  </style>\n",
              "\n",
              "      <script>\n",
              "        const buttonEl =\n",
              "          document.querySelector('#df-93aa74c1-2bb3-46d0-9ba5-812ba6515c74 button.colab-df-convert');\n",
              "        buttonEl.style.display =\n",
              "          google.colab.kernel.accessAllowed ? 'block' : 'none';\n",
              "\n",
              "        async function convertToInteractive(key) {\n",
              "          const element = document.querySelector('#df-93aa74c1-2bb3-46d0-9ba5-812ba6515c74');\n",
              "          const dataTable =\n",
              "            await google.colab.kernel.invokeFunction('convertToInteractive',\n",
              "                                                     [key], {});\n",
              "          if (!dataTable) return;\n",
              "\n",
              "          const docLinkHtml = 'Like what you see? Visit the ' +\n",
              "            '<a target=\"_blank\" href=https://colab.research.google.com/notebooks/data_table.ipynb>data table notebook</a>'\n",
              "            + ' to learn more about interactive tables.';\n",
              "          element.innerHTML = '';\n",
              "          dataTable['output_type'] = 'display_data';\n",
              "          await google.colab.output.renderOutput(dataTable, element);\n",
              "          const docLink = document.createElement('div');\n",
              "          docLink.innerHTML = docLinkHtml;\n",
              "          element.appendChild(docLink);\n",
              "        }\n",
              "      </script>\n",
              "    </div>\n",
              "  </div>\n",
              "  "
            ]
          },
          "metadata": {},
          "execution_count": 416
        }
      ]
    },
    {
      "cell_type": "code",
      "source": [
        "ctData_preds = clf.predict(X_ctData)"
      ],
      "metadata": {
        "colab": {
          "base_uri": "https://localhost:8080/"
        },
        "id": "k7760rXoBhBN",
        "outputId": "b09655fb-e009-4092-954d-a038e81ac540"
      },
      "execution_count": null,
      "outputs": [
        {
          "output_type": "stream",
          "name": "stderr",
          "text": [
            "/usr/local/lib/python3.7/dist-packages/sklearn/base.py:444: UserWarning: X has feature names, but RandomForestClassifier was fitted without feature names\n",
            "  f\"X has feature names, but {self.__class__.__name__} was fitted without\"\n"
          ]
        }
      ]
    },
    {
      "cell_type": "code",
      "source": [
        "ctData.dtypes"
      ],
      "metadata": {
        "colab": {
          "base_uri": "https://localhost:8080/"
        },
        "id": "xnRSRpK2CeDN",
        "outputId": "e9bc3fd7-fa0f-4fa0-8989-a5b0e4e20ff7"
      },
      "execution_count": null,
      "outputs": [
        {
          "output_type": "execute_result",
          "data": {
            "text/plain": [
              "Rank                     float64\n",
              "Town                      object\n",
              "Unnamed: 2                object\n",
              "County                    object\n",
              "Per capitaincome           int64\n",
              "Medianhouseholdincome      int64\n",
              "Medianfamilyincome         int64\n",
              "Population                 int64\n",
              "Number ofhouseholds        int64\n",
              "dtype: object"
            ]
          },
          "metadata": {},
          "execution_count": 418
        }
      ]
    },
    {
      "cell_type": "code",
      "source": [
        "# Evaluating performance on the CT Data\n",
        "\n",
        "MSE_TestData = mean_squared_error(ctData['Per capitaincome'],ctData_preds)\n",
        "RMSE_TestData = math.sqrt(MSE_TestData)\n",
        "MAE_TestData = mean_absolute_error(ctData['Per capitaincome'],ctData_preds)\n",
        "R_Square_TestData = r2_score(ctData['Per capitaincome'],ctData_preds)\n",
        "\n",
        "print(\"For CT Data Dataset \\nThe RMSE is: \", RMSE_TestData, \"\\nThe MAE is : \", MAE_TestData, \"\\nThe R Squared value is : \", R_Square_TestData)"
      ],
      "metadata": {
        "colab": {
          "base_uri": "https://localhost:8080/"
        },
        "id": "aanHtxEuB3g0",
        "outputId": "7fcf8494-4a5f-4f7b-f07e-a84b194589f3"
      },
      "execution_count": null,
      "outputs": [
        {
          "output_type": "stream",
          "name": "stdout",
          "text": [
            "For CT Data Dataset \n",
            "The RMSE is:  26982.936298218974 \n",
            "The MAE is :  25382.26815642458 \n",
            "The R Squared value is :  -2.099658453393023\n"
          ]
        }
      ]
    },
    {
      "cell_type": "markdown",
      "metadata": {
        "id": "-DfOyiKCKnRk"
      },
      "source": [
        "# 10. Five good bullets\n",
        "Write five good bullets about whether or not Massachussetts economic data was able to predict Connecticut economic data."
      ]
    },
    {
      "cell_type": "markdown",
      "source": [
        "\n",
        "\n",
        "1.   **Smaller Dataset** :  Massachussetts dataset was smaller with less than 300 rows. Even though I tried using different combination for the best tree *(using grid search and best classifier)* the performance of the tree was very low with high error margin. Larger Dataset might have helped to predict Connecticut economic data with better accuracy.\n",
        "\n",
        "2.   **Correlation** : For Massachussetts dataset, when I considered the subset data that includes *Type, Population, and number of households*, I found that there is very less correlation *(less than 0.01)*. This indicates that even after hyper parameter tuning, the model was going to overfit and produce less accuracy for the test dataset. This model was not able to perform well on the Connecticut economic data due to very less correlation.\n",
        "\n",
        "3. **Additional Columns** : Due to less correlation, the MAE was very high when we consider the orginal subset columns *(Type, Population, and number of households)*. When I have added to highly correlated columns *Medianhouseholdincome* and *Medianfamilyincome*, the MAE was reduced with significantly. The performance of the model was very well for the Massachussetts dataset on both test and training dataset. However, the model was not able to perform at all on Connecticut economic data.\n",
        "\n",
        "4. **Type of Household Column**: The column \"Type\" has major contribution to the accuracy of the model. For MA dataset, there were 3 types - *Town (249),\n",
        "City (47), Essex (1)*. We can notice that for *Essex* type we had only 1 record that can either go in train dataset or test dataset. So, model was trained for the third type of household in MA dataset. This also impacted to the CT econmic data because CT data that had more types - *Town (147), City (21), Borough (9), State (1), Country (1).* To minimize the impact I have converted the Types with less count into single type as *Other*. However that too didn't helped to improve the predictions for CT economic data.\n",
        "\n",
        "5. **Other External Factors** : Besides considering the internal columns contributing to predictions for MA and CT data. We also need to consider whether the data for MA is correlated with the CT data. Considering the household data, it can be the case that the percapita income criteria in MA is totally different than that in CT. For example - due to higher demand, the population, Median House price or the percapita income in Boston, MA can be comparatively much higher than that in Hartford, CT. There can be multiple factors/ columns involved in prediction of the per capita income for both MA and CT. So, the additional number of columns could have helped us in providing better model performance for both CT and MA economic data.\n",
        "\n"
      ],
      "metadata": {
        "id": "mpBW23wcErzH"
      }
    },
    {
      "cell_type": "code",
      "source": [],
      "metadata": {
        "id": "duEAc83EJLG4"
      },
      "execution_count": null,
      "outputs": []
    }
  ],
  "metadata": {
    "colab": {
      "collapsed_sections": [],
      "provenance": []
    },
    "kernelspec": {
      "display_name": "Python 3",
      "name": "python3"
    },
    "language_info": {
      "name": "python"
    }
  },
  "nbformat": 4,
  "nbformat_minor": 0
}